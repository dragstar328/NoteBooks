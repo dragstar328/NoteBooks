{
 "cells": [
  {
   "cell_type": "code",
   "execution_count": 1,
   "metadata": {},
   "outputs": [],
   "source": [
    "import tensorflow as tf\n",
    "import numpy as np"
   ]
  },
  {
   "cell_type": "code",
   "execution_count": 2,
   "metadata": {},
   "outputs": [
    {
     "name": "stdout",
     "output_type": "stream",
     "text": [
      "b'Hello World!'\n"
     ]
    }
   ],
   "source": [
    "# Step 1. Prepare data\n",
    "hello_data = 'Hello '\n",
    "world_data = 'World!'\n",
    "\n",
    "\n",
    "# Step 2. Define operation\n",
    "hello = tf.constant(hello_data)\n",
    "world = tf.constant(world_data)\n",
    "concat = hello + world\n",
    "\n",
    "\n",
    "# Step 3. Run operation\n",
    "session = tf.Session()\n",
    "print(session.run(concat))"
   ]
  },
  {
   "cell_type": "code",
   "execution_count": 3,
   "metadata": {},
   "outputs": [
    {
     "name": "stdout",
     "output_type": "stream",
     "text": [
      "8\n",
      "123\n"
     ]
    }
   ],
   "source": [
    "# Step 1. Prepare data\n",
    "# Do nothing\n",
    "\n",
    "\n",
    "# Step 2. Define operation\n",
    "v1 = tf.placeholder(tf.int32)\n",
    "v2 = tf.placeholder(tf.int32)\n",
    "add = v1 + v2\n",
    "\n",
    "\n",
    "# Step 3. Run operation\n",
    "session = tf.Session()\n",
    "print(session.run(add, {v1: 3, v2: 5}))  # => 8\n",
    "print(session.run(add, {v1: 100, v2: 23}))  # => 123"
   ]
  },
  {
   "cell_type": "code",
   "execution_count": 4,
   "metadata": {},
   "outputs": [
    {
     "data": {
      "text/plain": [
       "array([0. , 0.2, 0.4, 0.6, 0.8, 1. ])"
      ]
     },
     "execution_count": 4,
     "metadata": {},
     "output_type": "execute_result"
    }
   ],
   "source": [
    "x_data = np.linspace(0., 1., 6)\n",
    "x_data"
   ]
  },
  {
   "cell_type": "code",
   "execution_count": 5,
   "metadata": {},
   "outputs": [],
   "source": [
    "a_answer = 1.5\n",
    "b_answer = .1"
   ]
  },
  {
   "cell_type": "code",
   "execution_count": 6,
   "metadata": {},
   "outputs": [
    {
     "data": {
      "text/plain": [
       "array([0.1, 0.4, 0.7, 1. , 1.3, 1.6])"
      ]
     },
     "execution_count": 6,
     "metadata": {},
     "output_type": "execute_result"
    }
   ],
   "source": [
    "y_data = a_answer * x_data + b_answer\n",
    "y_data"
   ]
  },
  {
   "cell_type": "code",
   "execution_count": 7,
   "metadata": {},
   "outputs": [],
   "source": [
    "# Step 2. Define operation\n",
    "x = tf.placeholder(tf.float32)\n",
    "y_answer = tf.placeholder(tf.float32)\n",
    "\n",
    "a_model = tf.Variable(1.0)\n",
    "b_model = tf.Variable(0.0)"
   ]
  },
  {
   "cell_type": "code",
   "execution_count": 8,
   "metadata": {},
   "outputs": [],
   "source": [
    "y_model = a_model * x + b_model\n",
    "loss = tf.sqrt(tf.reduce_mean((y_model - y_answer)**2))\n",
    "train = tf.train.GradientDescentOptimizer(0.0001).minimize(loss)\n",
    "\n",
    "init = tf.global_variables_initializer()"
   ]
  },
  {
   "cell_type": "code",
   "execution_count": 9,
   "metadata": {},
   "outputs": [
    {
     "name": "stdout",
     "output_type": "stream",
     "text": [
      "3.0\n"
     ]
    }
   ],
   "source": [
    "# Step 1. Define data\n",
    "v_data = [1., 2., 3., 4., 5.]\n",
    "\n",
    "\n",
    "# Step 2. Define operation\n",
    "v = tf.placeholder(tf.float32)\n",
    "mean = tf.reduce_mean(v)\n",
    "\n",
    "\n",
    "# Step 3. Run operation\n",
    "session = tf.Session()\n",
    "print(session.run(mean, {v: v_data}))  # => 3.0"
   ]
  },
  {
   "cell_type": "code",
   "execution_count": 10,
   "metadata": {},
   "outputs": [
    {
     "name": "stdout",
     "output_type": "stream",
     "text": [
      "Loss: 0.3893273174762726\n",
      "y_model: [8.9871704e-05 2.0010187e-01 4.0011388e-01 6.0012591e-01 8.0013788e-01\n",
      " 1.0001498e+00], y_answer: [0.1 0.4 0.7 1.  1.3 1.6]\n",
      "Loss: 0.276712030172348\n",
      "y_model: [0.08742284 0.29948804 0.5115532  0.72361845 0.93568367 1.1477488 ], y_answer: [0.1 0.4 0.7 1.  1.3 1.6]\n",
      "Loss: 0.17969569563865662\n",
      "y_model: [0.16523851 0.38935253 0.61346656 0.83758056 1.0616946  1.2858086 ], y_answer: [0.1 0.4 0.7 1.  1.3 1.6]\n",
      "Loss: 0.11854960024356842\n",
      "y_model: [0.21937907 0.45459557 0.68981206 0.9250285  1.160245   1.3954614 ], y_answer: [0.1 0.4 0.7 1.  1.3 1.6]\n",
      "Loss: 0.09619221836328506\n",
      "y_model: [0.23743686 0.48114544 0.72485405 0.9685626  1.2122712  1.4559798 ], y_answer: [0.1 0.4 0.7 1.  1.3 1.6]\n",
      "Loss: 0.08563749492168427\n",
      "y_model: [0.23306891 0.4831607  0.7332525  0.9833443  1.2334361  1.4835279 ], y_answer: [0.1 0.4 0.7 1.  1.3 1.6]\n",
      "Loss: 0.07639279216527939\n",
      "y_model: [0.2210892  0.47676486 0.73244053 0.98811626 1.2437919  1.4994676 ], y_answer: [0.1 0.4 0.7 1.  1.3 1.6]\n",
      "Loss: 0.06723988056182861\n",
      "y_model: [0.20706783 0.4681046  0.72914135 0.99017817 1.2512149  1.5122516 ], y_answer: [0.1 0.4 0.7 1.  1.3 1.6]\n",
      "Loss: 0.05809080973267555\n",
      "y_model: [0.19258194 0.45892924 0.7252766  0.99162394 1.2579712  1.5243185 ], y_answer: [0.1 0.4 0.7 1.  1.3 1.6]\n",
      "Loss: 0.048955000936985016\n",
      "y_model: [0.17802566 0.44966587 0.7213061  0.9929463  1.2645864  1.5362267 ], y_answer: [0.1 0.4 0.7 1.  1.3 1.6]\n",
      "Loss: 0.039818912744522095\n",
      "y_model: [0.1634672  0.4404003  0.71733344 0.9942665  1.2711996  1.5481327 ], y_answer: [0.1 0.4 0.7 1.  1.3 1.6]\n",
      "Loss: 0.03068213351070881\n",
      "y_model: [0.14890411 0.4311301  0.71335614 0.9955821  1.2778081  1.560034  ], y_answer: [0.1 0.4 0.7 1.  1.3 1.6]\n",
      "Loss: 0.021545354276895523\n",
      "y_model: [0.13434103 0.42185992 0.70937884 0.9968977  1.2844166  1.5719354 ], y_answer: [0.1 0.4 0.7 1.  1.3 1.6]\n",
      "Loss: 0.012408507987856865\n",
      "y_model: [0.11977749 0.41258925 0.70540106 0.9982129  1.2910246  1.5838363 ], y_answer: [0.1 0.4 0.7 1.  1.3 1.6]\n",
      "Loss: 0.0032717802096158266\n",
      "y_model: [0.10521476 0.40331942 0.7014241  0.9995288  1.2976334  1.595738  ], y_answer: [0.1 0.4 0.7 1.  1.3 1.6]\n",
      "Loss: 3.246817868785001e-05\n",
      "y_model: [0.09997483 0.39997205 0.69996923 0.9999665  1.2999637  1.5999609 ], y_answer: [0.1 0.4 0.7 1.  1.3 1.6]\n",
      "Loss: 3.246817868785001e-05\n",
      "y_model: [0.09997483 0.39997205 0.69996923 0.9999665  1.2999637  1.5999609 ], y_answer: [0.1 0.4 0.7 1.  1.3 1.6]\n",
      "Loss: 3.246817868785001e-05\n",
      "y_model: [0.09997483 0.39997205 0.69996923 0.9999665  1.2999637  1.5999609 ], y_answer: [0.1 0.4 0.7 1.  1.3 1.6]\n",
      "Loss: 3.246817868785001e-05\n",
      "y_model: [0.09997483 0.39997205 0.69996923 0.9999665  1.2999637  1.5999609 ], y_answer: [0.1 0.4 0.7 1.  1.3 1.6]\n",
      "Loss: 3.246817868785001e-05\n",
      "y_model: [0.09997483 0.39997205 0.69996923 0.9999665  1.2999637  1.5999609 ], y_answer: [0.1 0.4 0.7 1.  1.3 1.6]\n"
     ]
    }
   ],
   "source": [
    "# Step 1. Prepare data\n",
    "x_data = np.linspace(0., 1., 6)  # => => [0.  0.2 0.4 0.6 0.8 1. ]\n",
    "a_answer = 1.5\n",
    "b_answer = .1\n",
    "y_data = a_answer * x_data + b_answer  # => [0.1 0.4 0.7 1.  1.3 1.6]\n",
    "\n",
    "\n",
    "# Step 2. Define operation\n",
    "x = tf.placeholder(tf.float32)\n",
    "y_answer = tf.placeholder(tf.float32)\n",
    "\n",
    "a_model = tf.Variable(1.0)\n",
    "b_model = tf.Variable(0.0)\n",
    "\n",
    "y_model = a_model * x + b_model\n",
    "loss = tf.sqrt(tf.reduce_mean((y_model - y_answer)**2))\n",
    "train = tf.train.GradientDescentOptimizer(0.0001).minimize(loss)\n",
    "\n",
    "init = tf.global_variables_initializer()\n",
    "\n",
    "\n",
    "# Step 3. Run operation\n",
    "session = tf.Session()\n",
    "session.run(init)\n",
    "for i in range(20000):\n",
    "    session.run(train, {x: x_data, y_answer: y_data})\n",
    "    if i % 1000 == 0:\n",
    "        current_loss, current_y_model = session.run(\n",
    "            [loss, y_model], {x: x_data, y_answer: y_data})\n",
    "        print(f\"Loss: {current_loss}\")\n",
    "        print(f\"y_model: {current_y_model}, y_answer: {y_data}\")"
   ]
  },
  {
   "cell_type": "code",
   "execution_count": 11,
   "metadata": {},
   "outputs": [
    {
     "name": "stdout",
     "output_type": "stream",
     "text": [
      "Loss: 6.435353755950928\n",
      "w, b: \n",
      "[[-0.17297906 -0.04291673]\n",
      " [ 0.01741256  0.18666054]], [0.101 0.101]\n",
      "Loss: 4.826993465423584\n",
      "w, b: \n",
      "[[0.33881965 0.5810041 ]\n",
      " [1.0176234  1.1872803 ]], [0.29352215 1.1022981 ]\n",
      "Loss: 3.2478437423706055\n",
      "w, b: \n",
      "[[0.64846146 1.1573615 ]\n",
      " [2.0151343  2.1864364 ]], [-0.25563082  2.104177  ]\n",
      "Loss: 1.6769461631774902\n",
      "w, b: \n",
      "[[0.9476294 1.758796 ]\n",
      " [3.0066993 3.1828203]], [-0.81787086  3.1084285 ]\n",
      "Loss: 0.28337588906288147\n",
      "w, b: \n",
      "[[1.0000964 1.9997766]\n",
      " [3.9053729 4.11399  ]], [-0.9999253  4.089541 ]\n",
      "Loss: 0.15444767475128174\n",
      "w, b: \n",
      "[[1.0000007 1.9999989]\n",
      " [3.7029335 4.1436596]], [-0.9999998  4.4500723]\n",
      "Loss: 0.04227149859070778\n",
      "w, b: \n",
      "[[1.0000001 2.       ]\n",
      " [3.1992157 4.0274377]], [-1.         4.8527117]\n",
      "Loss: 0.00018134250422008336\n",
      "w, b: \n",
      "[[0.99999976 1.9999998 ]\n",
      " [2.9998848  3.9998822 ]], [-1.0000002  4.9998865]\n",
      "Loss: 0.00011933093628613278\n",
      "w, b: \n",
      "[[1.000069  2.0000691]\n",
      " [2.999969  3.9999688]], [-0.999931   4.9999685]\n",
      "Loss: 8.781466749496758e-05\n",
      "w, b: \n",
      "[[1.0000557 2.0000558]\n",
      " [3.0000002 4.0000014]], [-0.99994427  5.000001  ]\n",
      "Loss: 0.00024746570852585137\n",
      "w, b: \n",
      "[[1.0001571 2.000157 ]\n",
      " [2.9999995 4.0000005]], [-0.9998429  5.0000005]\n",
      "Loss: 0.00021349091548472643\n",
      "w, b: \n",
      "[[1.000004  2.000004 ]\n",
      " [2.999864  3.9998648]], [-0.999996   4.9998646]\n",
      "Loss: 0.00015620409976691008\n",
      "w, b: \n",
      "[[0.9999048 1.9999048]\n",
      " [3.0000277 4.000028 ]], [-1.0000951  5.000028 ]\n",
      "Loss: 7.418142922688276e-05\n",
      "w, b: \n",
      "[[1.0000002 2.0000002]\n",
      " [3.0000465 4.0000467]], [-0.9999995  5.0000477]\n",
      "Loss: 0.00012373452773317695\n",
      "w, b: \n",
      "[[1.0000783 2.0000787]\n",
      " [3.        4.000001 ]], [-0.9999214  4.9999995]\n",
      "Loss: 8.103804429993033e-05\n",
      "w, b: \n",
      "[[1.0000515 2.0000515]\n",
      " [2.9999993 4.       ]], [-0.9999486  4.9999995]\n",
      "Loss: 8.935701771406457e-05\n",
      "w, b: \n",
      "[[1.0000002 2.0000005]\n",
      " [2.9999433 3.999944 ]], [-0.99999964  4.999943  ]\n",
      "Loss: 0.000103582555311732\n",
      "w, b: \n",
      "[[0.9999342 1.9999342]\n",
      " [2.9999998 4.0000014]], [-1.0000657  5.       ]\n",
      "Loss: 9.227493137586862e-05\n",
      "w, b: \n",
      "[[1.0000001 2.0000002]\n",
      " [2.9999413 3.9999416]], [-0.99999994  4.9999413 ]\n",
      "Loss: 0.0001387967204209417\n",
      "w, b: \n",
      "[[0.9999118 1.9999121]\n",
      " [2.9999993 3.9999995]], [-1.0000882  4.999999 ]\n"
     ]
    }
   ],
   "source": [
    "def init_weight_variable(shape):\n",
    "    \"\"\"Initialize variable in a suitable way for weights.\"\"\"\n",
    "    initial = tf.truncated_normal(shape, stddev=0.1)\n",
    "    return tf.Variable(initial)\n",
    "\n",
    "\n",
    "def init_bias_variable(shape):\n",
    "    \"\"\"Initialize variable in a suitable way for biases.\"\"\"\n",
    "    initial = tf.constant(0.1, shape=shape)\n",
    "    return tf.Variable(initial)\n",
    "\n",
    "\n",
    "# Step 1. Prepare data\n",
    "x_data = np.random.random((10, 2))\n",
    "w_answer = np.array([\n",
    "    [1., 2.],\n",
    "    [3., 4.]\n",
    "])\n",
    "b_answer = np.array([\n",
    "    -1.,\n",
    "    5.\n",
    "])\n",
    "y_data = np.array([w_answer @ _x_data + b_answer for _x_data in x_data])\n",
    "# y_data = (w_answer @ x_data[:, :, None] + b_answer[:, None])[:, :, 0]\n",
    "# y_data = np.einsum('ij,kj->ki', w_answer, x_data) + b_answer\n",
    "\n",
    "\n",
    "# Step 2. Define operation\n",
    "x = tf.placeholder(tf.float32, (None, 2))\n",
    "y_answer = tf.placeholder(tf.float32)\n",
    "\n",
    "w = init_weight_variable((2, 2))\n",
    "b = init_bias_variable((2,))\n",
    "y_model = tf.matmul(x, w, transpose_b=True) + b\n",
    "\n",
    "loss = tf.sqrt(tf.reduce_mean((y_model - y_answer)**2))\n",
    "train = tf.train.AdamOptimizer().minimize(loss)\n",
    "\n",
    "init = tf.global_variables_initializer()\n",
    "\n",
    "\n",
    "# Step 3. Run operation\n",
    "session = tf.Session()\n",
    "session.run(init)\n",
    "for i in range(20000):\n",
    "    session.run(train, {x: x_data, y_answer: y_data})\n",
    "    if i % 1000 == 0:\n",
    "        current_loss, current_w, current_b = session.run(\n",
    "            [loss, w, b], {x: x_data, y_answer: y_data})\n",
    "        print(f\"Loss: {current_loss}\")\n",
    "        print(f\"w, b: \\n{current_w}, {current_b}\")"
   ]
  },
  {
   "cell_type": "code",
   "execution_count": 12,
   "metadata": {},
   "outputs": [],
   "source": [
    "#DNN"
   ]
  },
  {
   "cell_type": "code",
   "execution_count": 13,
   "metadata": {},
   "outputs": [
    {
     "name": "stdout",
     "output_type": "stream",
     "text": [
      "Loss: 0.5109538435935974\n",
      "Loss: 0.033436525613069534\n",
      "Loss: 0.03290398791432381\n",
      "Loss: 0.03288840875029564\n",
      "Loss: 0.032868873327970505\n",
      "Loss: 0.03286382555961609\n",
      "Loss: 0.03286450728774071\n",
      "Loss: 0.0328642874956131\n",
      "Loss: 0.032863784581422806\n",
      "Loss: 0.032863784581422806\n"
     ]
    },
    {
     "data": {
      "image/png": "[encoded data removed]",
      "text/plain": [
       "<Figure size 432x288 with 1 Axes>"
      ]
     },
     "metadata": {},
     "output_type": "display_data"
    }
   ],
   "source": [
    "from matplotlib import pyplot as plt\n",
    "import seaborn as sns\n",
    "%matplotlib inline\n",
    "\n",
    "def init_weight_variable(shape):\n",
    "    \"\"\"Initialize variable in a suitable way for weights.\"\"\"\n",
    "    initial = tf.truncated_normal(shape, stddev=0.1)\n",
    "    return tf.Variable(initial)\n",
    "\n",
    "\n",
    "def init_bias_variable(shape):\n",
    "    \"\"\"Initialize variable in a suitable way for biases.\"\"\"\n",
    "    initial = tf.constant(0.1, shape=shape)\n",
    "    return tf.Variable(initial)\n",
    "\n",
    "\n",
    "# Step 1. Prepare data\n",
    "x_data = np.linspace(0., 2 * np.pi, 100)[:, None]\n",
    "y_data = np.sin(x_data)\n",
    "\n",
    "\n",
    "# Step 2. Define operation\n",
    "x = tf.placeholder(tf.float32, (None, 1))\n",
    "y_answer = tf.placeholder(tf.float32)\n",
    "\n",
    "n_var = 5\n",
    "\n",
    "w1 = init_weight_variable((1, n_var))\n",
    "b1 = init_bias_variable((n_var,))\n",
    "h1 = tf.nn.relu(tf.matmul(x, w1) + b1)\n",
    "\n",
    "w2 = init_weight_variable((n_var, n_var))\n",
    "b2 = init_bias_variable((n_var,))\n",
    "h2 = tf.nn.relu(tf.matmul(h1, w2) + b2)\n",
    "\n",
    "w3 = init_weight_variable((n_var, 1))\n",
    "b3 = init_bias_variable((1,))\n",
    "y_model = tf.matmul(h2, w3) + b3\n",
    "\n",
    "loss = tf.reduce_mean((y_model - y_answer)**2)\n",
    "train = tf.train.AdamOptimizer().minimize(loss)\n",
    "\n",
    "init = tf.global_variables_initializer()\n",
    "\n",
    "\n",
    "# Step 3. Run operation\n",
    "session = tf.Session()\n",
    "session.run(init)\n",
    "for i in range(10000):\n",
    "    session.run(train, {x: x_data, y_answer: y_data})\n",
    "    if i % 1000 == 0:\n",
    "        current_loss, current_y_model = session.run(\n",
    "            [loss, y_model], {x: x_data, y_answer: y_data})\n",
    "        print(f\"Loss: {current_loss}\")\n",
    "current_loss, current_y_model = session.run(\n",
    "    [loss, y_model], {x: x_data, y_answer: y_data})\n",
    "\n",
    "plt.plot(x_data, y_data, '.-', label='Answer')\n",
    "plt.plot(x_data, current_y_model, '.', label='Model')\n",
    "plt.legend()\n",
    "plt.show()"
   ]
  },
  {
   "cell_type": "code",
   "execution_count": null,
   "metadata": {},
   "outputs": [],
   "source": []
  }
 ],
 "metadata": {
  "kernelspec": {
   "display_name": "Python 3",
   "language": "python",
   "name": "python3"
  },
  "language_info": {
   "codemirror_mode": {
    "name": "ipython",
    "version": 3
   },
   "file_extension": ".py",
   "mimetype": "text/x-python",
   "name": "python",
   "nbconvert_exporter": "python",
   "pygments_lexer": "ipython3",
   "version": "3.6.1"
  }
 },
 "nbformat": 4,
 "nbformat_minor": 2
}
