{
 "cells": [
  {
   "cell_type": "code",
   "execution_count": 1,
   "metadata": {},
   "outputs": [],
   "source": [
    "import re, IPython.core.getipython\n",
    "from math import log\n",
    "class NumberSequence:\n",
    "    def __init__(self, s):\n",
    "        ss = [t.replace(' ','') for t in re.sub('(.)-', r'\\1+-', s).split('+')]\n",
    "        assert len(ss) == 3 or (len(ss) > 3 and ss[3] == '...')\n",
    "        tt = [int(i) for i in ss[:3]]\n",
    "        d, e = tt[1] - tt[0], tt[1]//(tt[0] if tt[0] else 1)\n",
    "        isratio = tt[2]/(tt[1] if tt[1] else 1) == e\n",
    "        assert isratio or tt[2]-tt[1] == d\n",
    "        ssum, self.value = r'\\sum_{i=0}', None\n",
    "        if len(ss) > 4:\n",
    "            last = int(ss[-1])\n",
    "            if isratio:\n",
    "                n = int(round(log(last / tt[0], abs(e)))) + 1\n",
    "                assert last == tt[0]*e**(n-1)\n",
    "                self.value = sum(tt[0]*e**i for i in range(n))\n",
    "            else:\n",
    "                n = (last-tt[0]) // d + 1\n",
    "                assert last == tt[0]+d*(n-1)\n",
    "                self.value = sum(tt[0]+d*i for i in range(n))\n",
    "            ssum += '^{%d}'%(n-1)\n",
    "        if isratio:\n",
    "            self.form = '$%s{%s%d^i}$'%(ssum, '' if tt[0]==1 else r'%s \\times '%tt[1], e)\n",
    "        else:\n",
    "            self.form = r'$%s{%s%s i}$'%(ssum, '' if tt[0]==0 else '%s + '%tt[0],\n",
    "                '' if d==1 else '%d \\times'%d)\n",
    "    def _repr_html_(self):\n",
    "        if self.value is not None:\n",
    "            print(self.value)\n",
    "        return self.form\n",
    "def S_impl(s):\n",
    "    return NumberSequence(s)\n",
    "ip = IPython.core.getipython.get_ipython()\n",
    "if ip:\n",
    "    ip.register_magic_function(S_impl, magic_name='S')"
   ]
  },
  {
   "cell_type": "code",
   "execution_count": 8,
   "metadata": {},
   "outputs": [
    {
     "data": {
      "text/html": [
       "$\\sum_{i=0}{1 + 3 \times i}$"
      ],
      "text/plain": [
       "<__main__.NumberSequence at 0x7f055c4202e8>"
      ]
     },
     "execution_count": 8,
     "metadata": {},
     "output_type": "execute_result"
    }
   ],
   "source": [
    "%S 1+4+7+..."
   ]
  },
  {
   "cell_type": "code",
   "execution_count": 3,
   "metadata": {},
   "outputs": [
    {
     "name": "stdout",
     "output_type": "stream",
     "text": [
      "70\n"
     ]
    },
    {
     "data": {
      "text/html": [
       "$\\sum_{i=0}^{6}{1 + 3 \times i}$"
      ],
      "text/plain": [
       "<__main__.NumberSequence at 0x7f055c4499e8>"
      ]
     },
     "execution_count": 3,
     "metadata": {},
     "output_type": "execute_result"
    }
   ],
   "source": [
    "%S 1+4+7+...+19"
   ]
  },
  {
   "cell_type": "code",
   "execution_count": 4,
   "metadata": {},
   "outputs": [
    {
     "data": {
      "text/html": [
       "$\\sum_{i=0}{-3^i}$"
      ],
      "text/plain": [
       "<__main__.NumberSequence at 0x7f055c449128>"
      ]
     },
     "execution_count": 4,
     "metadata": {},
     "output_type": "execute_result"
    }
   ],
   "source": [
    "%S 1-3+9+..."
   ]
  },
  {
   "cell_type": "code",
   "execution_count": 5,
   "metadata": {},
   "outputs": [
    {
     "name": "stdout",
     "output_type": "stream",
     "text": [
      "61\n"
     ]
    },
    {
     "data": {
      "text/html": [
       "$\\sum_{i=0}^{4}{-3^i}$"
      ],
      "text/plain": [
       "<__main__.NumberSequence at 0x7f055c4499b0>"
      ]
     },
     "execution_count": 5,
     "metadata": {},
     "output_type": "execute_result"
    }
   ],
   "source": [
    "S 1 - 3 + 9 + ... + 81"
   ]
  },
  {
   "cell_type": "code",
   "execution_count": 6,
   "metadata": {},
   "outputs": [
    {
     "name": "stdout",
     "output_type": "stream",
     "text": [
      "5050\n"
     ]
    },
    {
     "data": {
      "text/html": [
       "$\\sum_{i=0}^{100}{ i}$"
      ],
      "text/plain": [
       "<__main__.NumberSequence at 0x7f055c449eb8>"
      ]
     },
     "execution_count": 6,
     "metadata": {},
     "output_type": "execute_result"
    }
   ],
   "source": [
    "S {'+'.join(['0','1','2','...','100'])}"
   ]
  },
  {
   "cell_type": "code",
   "execution_count": null,
   "metadata": {},
   "outputs": [],
   "source": []
  }
 ],
 "metadata": {
  "kernelspec": {
   "display_name": "Python 3",
   "language": "python",
   "name": "python3"
  },
  "language_info": {
   "codemirror_mode": {
    "name": "ipython",
    "version": 3
   },
   "file_extension": ".py",
   "mimetype": "text/x-python",
   "name": "python",
   "nbconvert_exporter": "python",
   "pygments_lexer": "ipython3",
   "version": "3.6.1"
  }
 },
 "nbformat": 4,
 "nbformat_minor": 2
}
