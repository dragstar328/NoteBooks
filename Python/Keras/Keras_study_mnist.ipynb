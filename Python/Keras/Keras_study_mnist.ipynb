{
 "cells": [
  {
   "cell_type": "markdown",
   "metadata": {},
   "source": [
    "http://aidiary.hatenablog.com/entry/20161109/1478696865\n",
    "\n",
    "\n",
    "https://github.com/aidiary/keras-examples/blob/master/mlp/mnist.py"
   ]
  },
  {
   "cell_type": "code",
   "execution_count": 1,
   "metadata": {},
   "outputs": [
    {
     "name": "stderr",
     "output_type": "stream",
     "text": [
      "Using TensorFlow backend.\n"
     ]
    }
   ],
   "source": [
    "import time\n",
    "from keras.datasets import mnist\n",
    "from keras.utils import np_utils\n",
    "from keras.utils.vis_utils import model_to_dot\n",
    "\n",
    "from keras.models import Sequential\n",
    "from keras.layers.core import Dense, Dropout, Activation\n",
    "from keras.optimizers import Adam\n",
    "from keras.utils import plot_model\n",
    "from keras.callbacks import EarlyStopping\n",
    "\n",
    "from IPython.display import SVG\n",
    "\n",
    "from matplotlib import pyplot as plt\n",
    "import seaborn as sns\n",
    "sns.set()\n",
    "%matplotlib inline\n",
    "\n",
    "batch_size = 128\n",
    "num_classes = 10\n",
    "epochs = 12"
   ]
  },
  {
   "cell_type": "code",
   "execution_count": 2,
   "metadata": {},
   "outputs": [],
   "source": [
    "# load mnist\n",
    "(X_train, y_train), (X_test, y_test) = mnist.load_data()"
   ]
  },
  {
   "cell_type": "code",
   "execution_count": 3,
   "metadata": {},
   "outputs": [],
   "source": [
    "# 画像を1次元配列化\n",
    "X_train = X_train.reshape(60000, 784)\n",
    "X_test = X_test.reshape(10000, 784)"
   ]
  },
  {
   "cell_type": "code",
   "execution_count": 4,
   "metadata": {},
   "outputs": [
    {
     "name": "stdout",
     "output_type": "stream",
     "text": [
      "60000 train samples\n",
      "10000 test samples\n"
     ]
    }
   ],
   "source": [
    "# 画素を0.0-1.0の範囲に変換\n",
    "X_train = X_train.astype('float32')\n",
    "X_test = X_test.astype('float32')\n",
    "X_train /= 255\n",
    "X_test /= 255\n",
    "\n",
    "print(X_train.shape[0], 'train samples')\n",
    "print(X_test.shape[0], 'test samples')"
   ]
  },
  {
   "cell_type": "code",
   "execution_count": 5,
   "metadata": {},
   "outputs": [],
   "source": [
    "# one-hot-encoding\n",
    "Y_train = np_utils.to_categorical(y_train, num_classes)\n",
    "Y_test = np_utils.to_categorical(y_test, num_classes)"
   ]
  },
  {
   "cell_type": "code",
   "execution_count": 6,
   "metadata": {},
   "outputs": [
    {
     "name": "stdout",
     "output_type": "stream",
     "text": [
      "_________________________________________________________________\n",
      "Layer (type)                 Output Shape              Param #   \n",
      "=================================================================\n",
      "dense_1 (Dense)              (None, 512)               401920    \n",
      "_________________________________________________________________\n",
      "activation_1 (Activation)    (None, 512)               0         \n",
      "_________________________________________________________________\n",
      "dropout_1 (Dropout)          (None, 512)               0         \n",
      "_________________________________________________________________\n",
      "dense_2 (Dense)              (None, 512)               262656    \n",
      "_________________________________________________________________\n",
      "activation_2 (Activation)    (None, 512)               0         \n",
      "_________________________________________________________________\n",
      "dropout_2 (Dropout)          (None, 512)               0         \n",
      "_________________________________________________________________\n",
      "dense_3 (Dense)              (None, 10)                5130      \n",
      "_________________________________________________________________\n",
      "activation_3 (Activation)    (None, 10)                0         \n",
      "=================================================================\n",
      "Total params: 669,706\n",
      "Trainable params: 669,706\n",
      "Non-trainable params: 0\n",
      "_________________________________________________________________\n",
      "None\n"
     ]
    },
    {
     "data": {
      "image/svg+xml": [
       "<svg height=\"719pt\" viewBox=\"0.00 0.00 309.00 719.00\" width=\"309pt\" xmlns=\"http://www.w3.org/2000/svg\" xmlns:xlink=\"http://www.w3.org/1999/xlink\">\n",
       "<g class=\"graph\" id=\"graph0\" transform=\"scale(1 1) rotate(0) translate(4 715)\">\n",
       "<title>G</title>\n",
       "<polygon fill=\"white\" points=\"-4,4 -4,-715 305,-715 305,4 -4,4\" stroke=\"none\"/>\n",
       "<!-- 139849681292424 -->\n",
       "<g class=\"node\" id=\"node1\"><title>139849681292424</title>\n",
       "<polygon fill=\"none\" points=\"0,-664.5 0,-710.5 301,-710.5 301,-664.5 0,-664.5\" stroke=\"black\"/>\n",
       "<text font-family=\"Times,serif\" font-size=\"14.00\" text-anchor=\"middle\" x=\"81.5\" y=\"-683.8\">dense_1_input: InputLayer</text>\n",
       "<polyline fill=\"none\" points=\"163,-664.5 163,-710.5 \" stroke=\"black\"/>\n",
       "<text font-family=\"Times,serif\" font-size=\"14.00\" text-anchor=\"middle\" x=\"190.5\" y=\"-695.3\">input:</text>\n",
       "<polyline fill=\"none\" points=\"163,-687.5 218,-687.5 \" stroke=\"black\"/>\n",
       "<text font-family=\"Times,serif\" font-size=\"14.00\" text-anchor=\"middle\" x=\"190.5\" y=\"-672.3\">output:</text>\n",
       "<polyline fill=\"none\" points=\"218,-664.5 218,-710.5 \" stroke=\"black\"/>\n",
       "<text font-family=\"Times,serif\" font-size=\"14.00\" text-anchor=\"middle\" x=\"259.5\" y=\"-695.3\">(None, 784)</text>\n",
       "<polyline fill=\"none\" points=\"218,-687.5 301,-687.5 \" stroke=\"black\"/>\n",
       "<text font-family=\"Times,serif\" font-size=\"14.00\" text-anchor=\"middle\" x=\"259.5\" y=\"-672.3\">(None, 784)</text>\n",
       "</g>\n",
       "<!-- 139849681291808 -->\n",
       "<g class=\"node\" id=\"node2\"><title>139849681291808</title>\n",
       "<polygon fill=\"none\" points=\"30.5,-581.5 30.5,-627.5 270.5,-627.5 270.5,-581.5 30.5,-581.5\" stroke=\"black\"/>\n",
       "<text font-family=\"Times,serif\" font-size=\"14.00\" text-anchor=\"middle\" x=\"81.5\" y=\"-600.8\">dense_1: Dense</text>\n",
       "<polyline fill=\"none\" points=\"132.5,-581.5 132.5,-627.5 \" stroke=\"black\"/>\n",
       "<text font-family=\"Times,serif\" font-size=\"14.00\" text-anchor=\"middle\" x=\"160\" y=\"-612.3\">input:</text>\n",
       "<polyline fill=\"none\" points=\"132.5,-604.5 187.5,-604.5 \" stroke=\"black\"/>\n",
       "<text font-family=\"Times,serif\" font-size=\"14.00\" text-anchor=\"middle\" x=\"160\" y=\"-589.3\">output:</text>\n",
       "<polyline fill=\"none\" points=\"187.5,-581.5 187.5,-627.5 \" stroke=\"black\"/>\n",
       "<text font-family=\"Times,serif\" font-size=\"14.00\" text-anchor=\"middle\" x=\"229\" y=\"-612.3\">(None, 784)</text>\n",
       "<polyline fill=\"none\" points=\"187.5,-604.5 270.5,-604.5 \" stroke=\"black\"/>\n",
       "<text font-family=\"Times,serif\" font-size=\"14.00\" text-anchor=\"middle\" x=\"229\" y=\"-589.3\">(None, 512)</text>\n",
       "</g>\n",
       "<!-- 139849681292424&#45;&gt;139849681291808 -->\n",
       "<g class=\"edge\" id=\"edge1\"><title>139849681292424-&gt;139849681291808</title>\n",
       "<path d=\"M150.5,-664.366C150.5,-656.152 150.5,-646.658 150.5,-637.725\" fill=\"none\" stroke=\"black\"/>\n",
       "<polygon fill=\"black\" points=\"154,-637.607 150.5,-627.607 147,-637.607 154,-637.607\" stroke=\"black\"/>\n",
       "</g>\n",
       "<!-- 139849681292032 -->\n",
       "<g class=\"node\" id=\"node3\"><title>139849681292032</title>\n",
       "<polygon fill=\"none\" points=\"7.5,-498.5 7.5,-544.5 293.5,-544.5 293.5,-498.5 7.5,-498.5\" stroke=\"black\"/>\n",
       "<text font-family=\"Times,serif\" font-size=\"14.00\" text-anchor=\"middle\" x=\"81.5\" y=\"-517.8\">activation_1: Activation</text>\n",
       "<polyline fill=\"none\" points=\"155.5,-498.5 155.5,-544.5 \" stroke=\"black\"/>\n",
       "<text font-family=\"Times,serif\" font-size=\"14.00\" text-anchor=\"middle\" x=\"183\" y=\"-529.3\">input:</text>\n",
       "<polyline fill=\"none\" points=\"155.5,-521.5 210.5,-521.5 \" stroke=\"black\"/>\n",
       "<text font-family=\"Times,serif\" font-size=\"14.00\" text-anchor=\"middle\" x=\"183\" y=\"-506.3\">output:</text>\n",
       "<polyline fill=\"none\" points=\"210.5,-498.5 210.5,-544.5 \" stroke=\"black\"/>\n",
       "<text font-family=\"Times,serif\" font-size=\"14.00\" text-anchor=\"middle\" x=\"252\" y=\"-529.3\">(None, 512)</text>\n",
       "<polyline fill=\"none\" points=\"210.5,-521.5 293.5,-521.5 \" stroke=\"black\"/>\n",
       "<text font-family=\"Times,serif\" font-size=\"14.00\" text-anchor=\"middle\" x=\"252\" y=\"-506.3\">(None, 512)</text>\n",
       "</g>\n",
       "<!-- 139849681291808&#45;&gt;139849681292032 -->\n",
       "<g class=\"edge\" id=\"edge2\"><title>139849681291808-&gt;139849681292032</title>\n",
       "<path d=\"M150.5,-581.366C150.5,-573.152 150.5,-563.658 150.5,-554.725\" fill=\"none\" stroke=\"black\"/>\n",
       "<polygon fill=\"black\" points=\"154,-554.607 150.5,-544.607 147,-554.607 154,-554.607\" stroke=\"black\"/>\n",
       "</g>\n",
       "<!-- 139849681292648 -->\n",
       "<g class=\"node\" id=\"node4\"><title>139849681292648</title>\n",
       "<polygon fill=\"none\" points=\"19,-415.5 19,-461.5 282,-461.5 282,-415.5 19,-415.5\" stroke=\"black\"/>\n",
       "<text font-family=\"Times,serif\" font-size=\"14.00\" text-anchor=\"middle\" x=\"81.5\" y=\"-434.8\">dropout_1: Dropout</text>\n",
       "<polyline fill=\"none\" points=\"144,-415.5 144,-461.5 \" stroke=\"black\"/>\n",
       "<text font-family=\"Times,serif\" font-size=\"14.00\" text-anchor=\"middle\" x=\"171.5\" y=\"-446.3\">input:</text>\n",
       "<polyline fill=\"none\" points=\"144,-438.5 199,-438.5 \" stroke=\"black\"/>\n",
       "<text font-family=\"Times,serif\" font-size=\"14.00\" text-anchor=\"middle\" x=\"171.5\" y=\"-423.3\">output:</text>\n",
       "<polyline fill=\"none\" points=\"199,-415.5 199,-461.5 \" stroke=\"black\"/>\n",
       "<text font-family=\"Times,serif\" font-size=\"14.00\" text-anchor=\"middle\" x=\"240.5\" y=\"-446.3\">(None, 512)</text>\n",
       "<polyline fill=\"none\" points=\"199,-438.5 282,-438.5 \" stroke=\"black\"/>\n",
       "<text font-family=\"Times,serif\" font-size=\"14.00\" text-anchor=\"middle\" x=\"240.5\" y=\"-423.3\">(None, 512)</text>\n",
       "</g>\n",
       "<!-- 139849681292032&#45;&gt;139849681292648 -->\n",
       "<g class=\"edge\" id=\"edge3\"><title>139849681292032-&gt;139849681292648</title>\n",
       "<path d=\"M150.5,-498.366C150.5,-490.152 150.5,-480.658 150.5,-471.725\" fill=\"none\" stroke=\"black\"/>\n",
       "<polygon fill=\"black\" points=\"154,-471.607 150.5,-461.607 147,-471.607 154,-471.607\" stroke=\"black\"/>\n",
       "</g>\n",
       "<!-- 139849681292816 -->\n",
       "<g class=\"node\" id=\"node5\"><title>139849681292816</title>\n",
       "<polygon fill=\"none\" points=\"30.5,-332.5 30.5,-378.5 270.5,-378.5 270.5,-332.5 30.5,-332.5\" stroke=\"black\"/>\n",
       "<text font-family=\"Times,serif\" font-size=\"14.00\" text-anchor=\"middle\" x=\"81.5\" y=\"-351.8\">dense_2: Dense</text>\n",
       "<polyline fill=\"none\" points=\"132.5,-332.5 132.5,-378.5 \" stroke=\"black\"/>\n",
       "<text font-family=\"Times,serif\" font-size=\"14.00\" text-anchor=\"middle\" x=\"160\" y=\"-363.3\">input:</text>\n",
       "<polyline fill=\"none\" points=\"132.5,-355.5 187.5,-355.5 \" stroke=\"black\"/>\n",
       "<text font-family=\"Times,serif\" font-size=\"14.00\" text-anchor=\"middle\" x=\"160\" y=\"-340.3\">output:</text>\n",
       "<polyline fill=\"none\" points=\"187.5,-332.5 187.5,-378.5 \" stroke=\"black\"/>\n",
       "<text font-family=\"Times,serif\" font-size=\"14.00\" text-anchor=\"middle\" x=\"229\" y=\"-363.3\">(None, 512)</text>\n",
       "<polyline fill=\"none\" points=\"187.5,-355.5 270.5,-355.5 \" stroke=\"black\"/>\n",
       "<text font-family=\"Times,serif\" font-size=\"14.00\" text-anchor=\"middle\" x=\"229\" y=\"-340.3\">(None, 512)</text>\n",
       "</g>\n",
       "<!-- 139849681292648&#45;&gt;139849681292816 -->\n",
       "<g class=\"edge\" id=\"edge4\"><title>139849681292648-&gt;139849681292816</title>\n",
       "<path d=\"M150.5,-415.366C150.5,-407.152 150.5,-397.658 150.5,-388.725\" fill=\"none\" stroke=\"black\"/>\n",
       "<polygon fill=\"black\" points=\"154,-388.607 150.5,-378.607 147,-388.607 154,-388.607\" stroke=\"black\"/>\n",
       "</g>\n",
       "<!-- 139849681366376 -->\n",
       "<g class=\"node\" id=\"node6\"><title>139849681366376</title>\n",
       "<polygon fill=\"none\" points=\"7.5,-249.5 7.5,-295.5 293.5,-295.5 293.5,-249.5 7.5,-249.5\" stroke=\"black\"/>\n",
       "<text font-family=\"Times,serif\" font-size=\"14.00\" text-anchor=\"middle\" x=\"81.5\" y=\"-268.8\">activation_2: Activation</text>\n",
       "<polyline fill=\"none\" points=\"155.5,-249.5 155.5,-295.5 \" stroke=\"black\"/>\n",
       "<text font-family=\"Times,serif\" font-size=\"14.00\" text-anchor=\"middle\" x=\"183\" y=\"-280.3\">input:</text>\n",
       "<polyline fill=\"none\" points=\"155.5,-272.5 210.5,-272.5 \" stroke=\"black\"/>\n",
       "<text font-family=\"Times,serif\" font-size=\"14.00\" text-anchor=\"middle\" x=\"183\" y=\"-257.3\">output:</text>\n",
       "<polyline fill=\"none\" points=\"210.5,-249.5 210.5,-295.5 \" stroke=\"black\"/>\n",
       "<text font-family=\"Times,serif\" font-size=\"14.00\" text-anchor=\"middle\" x=\"252\" y=\"-280.3\">(None, 512)</text>\n",
       "<polyline fill=\"none\" points=\"210.5,-272.5 293.5,-272.5 \" stroke=\"black\"/>\n",
       "<text font-family=\"Times,serif\" font-size=\"14.00\" text-anchor=\"middle\" x=\"252\" y=\"-257.3\">(None, 512)</text>\n",
       "</g>\n",
       "<!-- 139849681292816&#45;&gt;139849681366376 -->\n",
       "<g class=\"edge\" id=\"edge5\"><title>139849681292816-&gt;139849681366376</title>\n",
       "<path d=\"M150.5,-332.366C150.5,-324.152 150.5,-314.658 150.5,-305.725\" fill=\"none\" stroke=\"black\"/>\n",
       "<polygon fill=\"black\" points=\"154,-305.607 150.5,-295.607 147,-305.607 154,-305.607\" stroke=\"black\"/>\n",
       "</g>\n",
       "<!-- 139850177911720 -->\n",
       "<g class=\"node\" id=\"node7\"><title>139850177911720</title>\n",
       "<polygon fill=\"none\" points=\"19,-166.5 19,-212.5 282,-212.5 282,-166.5 19,-166.5\" stroke=\"black\"/>\n",
       "<text font-family=\"Times,serif\" font-size=\"14.00\" text-anchor=\"middle\" x=\"81.5\" y=\"-185.8\">dropout_2: Dropout</text>\n",
       "<polyline fill=\"none\" points=\"144,-166.5 144,-212.5 \" stroke=\"black\"/>\n",
       "<text font-family=\"Times,serif\" font-size=\"14.00\" text-anchor=\"middle\" x=\"171.5\" y=\"-197.3\">input:</text>\n",
       "<polyline fill=\"none\" points=\"144,-189.5 199,-189.5 \" stroke=\"black\"/>\n",
       "<text font-family=\"Times,serif\" font-size=\"14.00\" text-anchor=\"middle\" x=\"171.5\" y=\"-174.3\">output:</text>\n",
       "<polyline fill=\"none\" points=\"199,-166.5 199,-212.5 \" stroke=\"black\"/>\n",
       "<text font-family=\"Times,serif\" font-size=\"14.00\" text-anchor=\"middle\" x=\"240.5\" y=\"-197.3\">(None, 512)</text>\n",
       "<polyline fill=\"none\" points=\"199,-189.5 282,-189.5 \" stroke=\"black\"/>\n",
       "<text font-family=\"Times,serif\" font-size=\"14.00\" text-anchor=\"middle\" x=\"240.5\" y=\"-174.3\">(None, 512)</text>\n",
       "</g>\n",
       "<!-- 139849681366376&#45;&gt;139850177911720 -->\n",
       "<g class=\"edge\" id=\"edge6\"><title>139849681366376-&gt;139850177911720</title>\n",
       "<path d=\"M150.5,-249.366C150.5,-241.152 150.5,-231.658 150.5,-222.725\" fill=\"none\" stroke=\"black\"/>\n",
       "<polygon fill=\"black\" points=\"154,-222.607 150.5,-212.607 147,-222.607 154,-222.607\" stroke=\"black\"/>\n",
       "</g>\n",
       "<!-- 139849649761920 -->\n",
       "<g class=\"node\" id=\"node8\"><title>139849649761920</title>\n",
       "<polygon fill=\"none\" points=\"30.5,-83.5 30.5,-129.5 270.5,-129.5 270.5,-83.5 30.5,-83.5\" stroke=\"black\"/>\n",
       "<text font-family=\"Times,serif\" font-size=\"14.00\" text-anchor=\"middle\" x=\"81.5\" y=\"-102.8\">dense_3: Dense</text>\n",
       "<polyline fill=\"none\" points=\"132.5,-83.5 132.5,-129.5 \" stroke=\"black\"/>\n",
       "<text font-family=\"Times,serif\" font-size=\"14.00\" text-anchor=\"middle\" x=\"160\" y=\"-114.3\">input:</text>\n",
       "<polyline fill=\"none\" points=\"132.5,-106.5 187.5,-106.5 \" stroke=\"black\"/>\n",
       "<text font-family=\"Times,serif\" font-size=\"14.00\" text-anchor=\"middle\" x=\"160\" y=\"-91.3\">output:</text>\n",
       "<polyline fill=\"none\" points=\"187.5,-83.5 187.5,-129.5 \" stroke=\"black\"/>\n",
       "<text font-family=\"Times,serif\" font-size=\"14.00\" text-anchor=\"middle\" x=\"229\" y=\"-114.3\">(None, 512)</text>\n",
       "<polyline fill=\"none\" points=\"187.5,-106.5 270.5,-106.5 \" stroke=\"black\"/>\n",
       "<text font-family=\"Times,serif\" font-size=\"14.00\" text-anchor=\"middle\" x=\"229\" y=\"-91.3\">(None, 10)</text>\n",
       "</g>\n",
       "<!-- 139850177911720&#45;&gt;139849649761920 -->\n",
       "<g class=\"edge\" id=\"edge7\"><title>139850177911720-&gt;139849649761920</title>\n",
       "<path d=\"M150.5,-166.366C150.5,-158.152 150.5,-148.658 150.5,-139.725\" fill=\"none\" stroke=\"black\"/>\n",
       "<polygon fill=\"black\" points=\"154,-139.607 150.5,-129.607 147,-139.607 154,-139.607\" stroke=\"black\"/>\n",
       "</g>\n",
       "<!-- 139849649761304 -->\n",
       "<g class=\"node\" id=\"node9\"><title>139849649761304</title>\n",
       "<polygon fill=\"none\" points=\"11,-0.5 11,-46.5 290,-46.5 290,-0.5 11,-0.5\" stroke=\"black\"/>\n",
       "<text font-family=\"Times,serif\" font-size=\"14.00\" text-anchor=\"middle\" x=\"85\" y=\"-19.8\">activation_3: Activation</text>\n",
       "<polyline fill=\"none\" points=\"159,-0.5 159,-46.5 \" stroke=\"black\"/>\n",
       "<text font-family=\"Times,serif\" font-size=\"14.00\" text-anchor=\"middle\" x=\"186.5\" y=\"-31.3\">input:</text>\n",
       "<polyline fill=\"none\" points=\"159,-23.5 214,-23.5 \" stroke=\"black\"/>\n",
       "<text font-family=\"Times,serif\" font-size=\"14.00\" text-anchor=\"middle\" x=\"186.5\" y=\"-8.3\">output:</text>\n",
       "<polyline fill=\"none\" points=\"214,-0.5 214,-46.5 \" stroke=\"black\"/>\n",
       "<text font-family=\"Times,serif\" font-size=\"14.00\" text-anchor=\"middle\" x=\"252\" y=\"-31.3\">(None, 10)</text>\n",
       "<polyline fill=\"none\" points=\"214,-23.5 290,-23.5 \" stroke=\"black\"/>\n",
       "<text font-family=\"Times,serif\" font-size=\"14.00\" text-anchor=\"middle\" x=\"252\" y=\"-8.3\">(None, 10)</text>\n",
       "</g>\n",
       "<!-- 139849649761920&#45;&gt;139849649761304 -->\n",
       "<g class=\"edge\" id=\"edge8\"><title>139849649761920-&gt;139849649761304</title>\n",
       "<path d=\"M150.5,-83.3664C150.5,-75.1516 150.5,-65.6579 150.5,-56.7252\" fill=\"none\" stroke=\"black\"/>\n",
       "<polygon fill=\"black\" points=\"154,-56.6068 150.5,-46.6068 147,-56.6069 154,-56.6068\" stroke=\"black\"/>\n",
       "</g>\n",
       "</g>\n",
       "</svg>"
      ],
      "text/plain": [
       "<IPython.core.display.SVG object>"
      ]
     },
     "execution_count": 6,
     "metadata": {},
     "output_type": "execute_result"
    }
   ],
   "source": [
    "# create model\n",
    "model = Sequential()\n",
    "model.add(Dense(512, input_shape=(784,)))\n",
    "model.add(Activation('relu'))\n",
    "model.add(Dropout(0.2))\n",
    "model.add(Dense(512))\n",
    "model.add(Activation('relu'))\n",
    "model.add(Dropout(0.2))\n",
    "model.add(Dense(10))\n",
    "model.add(Activation('softmax'))\n",
    "\n",
    "print(model.summary())\n",
    "SVG(model_to_dot(model=model, show_shapes=True, show_layer_names=True).create(prog='dot', format='svg'))"
   ]
  },
  {
   "cell_type": "code",
   "execution_count": 7,
   "metadata": {},
   "outputs": [],
   "source": [
    "# compile model\n",
    "model.compile(loss=\"categorical_crossentropy\",\n",
    "              optimizer=Adam(),\n",
    "              metrics=['accuracy'])"
   ]
  },
  {
   "cell_type": "code",
   "execution_count": 8,
   "metadata": {},
   "outputs": [],
   "source": [
    "# callback func EarlyStopping\n",
    "early_stopping = EarlyStopping(patience=0, verbose=1)"
   ]
  },
  {
   "cell_type": "code",
   "execution_count": 9,
   "metadata": {},
   "outputs": [
    {
     "name": "stdout",
     "output_type": "stream",
     "text": [
      "Train on 54000 samples, validate on 6000 samples\n",
      "Epoch 1/12\n",
      "54000/54000 [==============================] - 15s 275us/step - loss: 0.2730 - acc: 0.9170 - val_loss: 0.0967 - val_acc: 0.9720\n",
      "Epoch 2/12\n",
      "54000/54000 [==============================] - 16s 297us/step - loss: 0.1120 - acc: 0.9658 - val_loss: 0.0771 - val_acc: 0.9750\n",
      "Epoch 3/12\n",
      "54000/54000 [==============================] - 15s 271us/step - loss: 0.0782 - acc: 0.9755 - val_loss: 0.0814 - val_acc: 0.9748\n",
      "Epoch 00003: early stopping\n",
      "ELAPSED_TIME： 45.95872354507446  秒\n"
     ]
    }
   ],
   "source": [
    "# fit-model\n",
    "st = time.time()\n",
    "\n",
    "history = model.fit(X_train, Y_train,\n",
    "                    batch_size=batch_size,\n",
    "                    epochs=epochs,\n",
    "                    verbose=1,\n",
    "                    validation_split=0.1,\n",
    "                    callbacks=[early_stopping])\n",
    "\n",
    "ed = time.time()\n",
    "elapsed_time = ed-st\n",
    "print(\"ELAPSED_TIME：\", elapsed_time, \" 秒\")"
   ]
  },
  {
   "cell_type": "code",
   "execution_count": 10,
   "metadata": {},
   "outputs": [
    {
     "data": {
      "image/png": "[encoded data removed]",
      "text/plain": [
       "<matplotlib.figure.Figure at 0x7f31479685f8>"
      ]
     },
     "metadata": {},
     "output_type": "display_data"
    }
   ],
   "source": [
    "#精度の履歴\n",
    "plt.plot(history.history['acc'])\n",
    "plt.plot(history.history['val_acc'])\n",
    "plt.title('model accuracy')\n",
    "plt.xlabel('epoch')\n",
    "plt.ylabel('accuracy')\n",
    "plt.legend(['acc', 'val_acc'], loc='best', frameon=True, edgecolor=\"blue\")\n",
    "plt.show()"
   ]
  },
  {
   "cell_type": "code",
   "execution_count": 11,
   "metadata": {},
   "outputs": [
    {
     "data": {
      "image/png": "[encoded data removed]",
      "text/plain": [
       "<matplotlib.figure.Figure at 0x7f31479687f0>"
      ]
     },
     "metadata": {},
     "output_type": "display_data"
    }
   ],
   "source": [
    "#損失の履歴\n",
    "plt.plot(history.history['loss'])\n",
    "plt.plot(history.history['val_loss'])\n",
    "plt.title('model loss')\n",
    "plt.xlabel('epoch')\n",
    "plt.ylabel('loss')\n",
    "plt.legend(['loss', 'val_loss'], loc='best', frameon=True, edgecolor=\"blue\")\n",
    "plt.show()"
   ]
  },
  {
   "cell_type": "code",
   "execution_count": 12,
   "metadata": {},
   "outputs": [
    {
     "name": "stdout",
     "output_type": "stream",
     "text": [
      "Test loss: 0.08309154215664603\n",
      "Test acc: 0.9739\n"
     ]
    }
   ],
   "source": [
    "# モデルの評価\n",
    "loss, acc = model.evaluate(X_test, Y_test, verbose=0)\n",
    "print('Test loss:', loss)\n",
    "print('Test acc:', acc)"
   ]
  },
  {
   "cell_type": "code",
   "execution_count": null,
   "metadata": {},
   "outputs": [],
   "source": []
  }
 ],
 "metadata": {
  "kernelspec": {
   "display_name": "Python 3",
   "language": "python",
   "name": "python3"
  },
  "language_info": {
   "codemirror_mode": {
    "name": "ipython",
    "version": 3
   },
   "file_extension": ".py",
   "mimetype": "text/x-python",
   "name": "python",
   "nbconvert_exporter": "python",
   "pygments_lexer": "ipython3",
   "version": "3.6.1"
  }
 },
 "nbformat": 4,
 "nbformat_minor": 2
}
