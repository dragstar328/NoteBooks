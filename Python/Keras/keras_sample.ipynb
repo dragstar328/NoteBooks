{
 "cells": [
  {
   "cell_type": "markdown",
   "metadata": {},
   "source": [
    "Original：https://github.com/keras-team/keras/blob/master/examples/mnist_mlp.py\n",
    "\n",
    "\n",
    "ちょっと変えた"
   ]
  },
  {
   "cell_type": "code",
   "execution_count": 1,
   "metadata": {},
   "outputs": [
    {
     "name": "stderr",
     "output_type": "stream",
     "text": [
      "Using TensorFlow backend.\n"
     ]
    }
   ],
   "source": [
    "'''Trains a simple deep NN on the MNIST dataset.\n",
    "Gets to 98.40% test accuracy after 20 epochs\n",
    "(there is *a lot* of margin for parameter tuning).\n",
    "2 seconds per epoch on a K520 GPU.\n",
    "'''\n",
    "\n",
    "from __future__ import print_function\n",
    "import keras\n",
    "from keras.datasets import mnist\n",
    "from keras.models import Sequential\n",
    "from keras.layers import Dense, Dropout\n",
    "from keras.optimizers import RMSprop\n",
    "\n",
    "batch_size = 128\n",
    "num_classes = 10 # 0-9の画像にクラス（分類）するため10\n",
    "epochs = 20      # 20回学習する"
   ]
  },
  {
   "cell_type": "code",
   "execution_count": 2,
   "metadata": {},
   "outputs": [],
   "source": [
    "# データのロード\n",
    "(x_train, y_train), (x_test, y_test) = mnist.load_data()"
   ]
  },
  {
   "cell_type": "code",
   "execution_count": 3,
   "metadata": {},
   "outputs": [
    {
     "name": "stdout",
     "output_type": "stream",
     "text": [
      "x_train: (60000, 28, 28)\n",
      "y_train: (60000,)\n",
      "x_test: (10000, 28, 28)\n",
      "y_test: (10000,)\n"
     ]
    }
   ],
   "source": [
    "print(\"x_train:\", x_train.shape) #  60000件の学習用データ、2次元(28 * 28)次元となっている\n",
    "print(\"y_train:\",y_train.shape) # 60000件の学習用ラベルデータ、0-9が入っている\n",
    "print(\"x_test:\",x_test.shape)  # 10000件のテスト用データ、2次元(28 * 28)次元となっている\n",
    "print(\"y_test:\",y_test.shape) # 10000件のテスト用ラベルデータ、0-9が入っている"
   ]
  },
  {
   "cell_type": "code",
   "execution_count": 4,
   "metadata": {},
   "outputs": [
    {
     "name": "stdout",
     "output_type": "stream",
     "text": [
      "(60000, 784) train samples\n",
      "(10000, 784) test samples\n"
     ]
    }
   ],
   "source": [
    "# 画像を1次元配列化\n",
    "# 28 * 28 = 784　配列784の１次元にする\n",
    "x_train = x_train.reshape(60000, 784)\n",
    "x_test = x_test.reshape(10000, 784)\n",
    "\n",
    "# 0-255までの範囲の値を0-1の範囲の値に変更する\n",
    "x_train = x_train.astype('float32')\n",
    "x_test = x_test.astype('float32')\n",
    "x_train /= 255\n",
    "x_test /= 255\n",
    "print(x_train.shape, 'train samples')\n",
    "print(x_test.shape, 'test samples')"
   ]
  },
  {
   "cell_type": "code",
   "execution_count": 5,
   "metadata": {},
   "outputs": [
    {
     "name": "stdout",
     "output_type": "stream",
     "text": [
      "(60000, 10) :y_train\n",
      "(10000, 10) :y_test\n"
     ]
    }
   ],
   "source": [
    "# 正解データを１次元の配列10に置き換える\n",
    "# ex) 4 : [0][0][0][0][1][0][0][0][0][0]\n",
    "y_train = keras.utils.to_categorical(y_train, num_classes)\n",
    "y_test = keras.utils.to_categorical(y_test, num_classes)\n",
    "\n",
    "print(y_train.shape, ':y_train')\n",
    "print(y_test.shape, ':y_test')"
   ]
  },
  {
   "cell_type": "code",
   "execution_count": 6,
   "metadata": {},
   "outputs": [
    {
     "name": "stdout",
     "output_type": "stream",
     "text": [
      "_________________________________________________________________\n",
      "Layer (type)                 Output Shape              Param #   \n",
      "=================================================================\n",
      "dense_1 (Dense)              (None, 512)               401920    \n",
      "_________________________________________________________________\n",
      "dropout_1 (Dropout)          (None, 512)               0         \n",
      "_________________________________________________________________\n",
      "dense_2 (Dense)              (None, 512)               262656    \n",
      "_________________________________________________________________\n",
      "dropout_2 (Dropout)          (None, 512)               0         \n",
      "_________________________________________________________________\n",
      "dense_3 (Dense)              (None, 10)                5130      \n",
      "=================================================================\n",
      "Total params: 669,706\n",
      "Trainable params: 669,706\n",
      "Non-trainable params: 0\n",
      "_________________________________________________________________\n"
     ]
    },
    {
     "data": {
      "image/svg+xml": [
       "<svg height=\"470pt\" viewBox=\"0.00 0.00 309.00 470.00\" width=\"309pt\" xmlns=\"http://www.w3.org/2000/svg\" xmlns:xlink=\"http://www.w3.org/1999/xlink\">\n",
       "<g class=\"graph\" id=\"graph0\" transform=\"scale(1 1) rotate(0) translate(4 466)\">\n",
       "<title>G</title>\n",
       "<polygon fill=\"white\" points=\"-4,4 -4,-466 305,-466 305,4 -4,4\" stroke=\"none\"/>\n",
       "<!-- 140528776983272 -->\n",
       "<g class=\"node\" id=\"node1\"><title>140528776983272</title>\n",
       "<polygon fill=\"none\" points=\"0,-415.5 0,-461.5 301,-461.5 301,-415.5 0,-415.5\" stroke=\"black\"/>\n",
       "<text font-family=\"Times,serif\" font-size=\"14.00\" text-anchor=\"middle\" x=\"81.5\" y=\"-434.8\">dense_1_input: InputLayer</text>\n",
       "<polyline fill=\"none\" points=\"163,-415.5 163,-461.5 \" stroke=\"black\"/>\n",
       "<text font-family=\"Times,serif\" font-size=\"14.00\" text-anchor=\"middle\" x=\"190.5\" y=\"-446.3\">input:</text>\n",
       "<polyline fill=\"none\" points=\"163,-438.5 218,-438.5 \" stroke=\"black\"/>\n",
       "<text font-family=\"Times,serif\" font-size=\"14.00\" text-anchor=\"middle\" x=\"190.5\" y=\"-423.3\">output:</text>\n",
       "<polyline fill=\"none\" points=\"218,-415.5 218,-461.5 \" stroke=\"black\"/>\n",
       "<text font-family=\"Times,serif\" font-size=\"14.00\" text-anchor=\"middle\" x=\"259.5\" y=\"-446.3\">(None, 784)</text>\n",
       "<polyline fill=\"none\" points=\"218,-438.5 301,-438.5 \" stroke=\"black\"/>\n",
       "<text font-family=\"Times,serif\" font-size=\"14.00\" text-anchor=\"middle\" x=\"259.5\" y=\"-423.3\">(None, 784)</text>\n",
       "</g>\n",
       "<!-- 140528776982712 -->\n",
       "<g class=\"node\" id=\"node2\"><title>140528776982712</title>\n",
       "<polygon fill=\"none\" points=\"30.5,-332.5 30.5,-378.5 270.5,-378.5 270.5,-332.5 30.5,-332.5\" stroke=\"black\"/>\n",
       "<text font-family=\"Times,serif\" font-size=\"14.00\" text-anchor=\"middle\" x=\"81.5\" y=\"-351.8\">dense_1: Dense</text>\n",
       "<polyline fill=\"none\" points=\"132.5,-332.5 132.5,-378.5 \" stroke=\"black\"/>\n",
       "<text font-family=\"Times,serif\" font-size=\"14.00\" text-anchor=\"middle\" x=\"160\" y=\"-363.3\">input:</text>\n",
       "<polyline fill=\"none\" points=\"132.5,-355.5 187.5,-355.5 \" stroke=\"black\"/>\n",
       "<text font-family=\"Times,serif\" font-size=\"14.00\" text-anchor=\"middle\" x=\"160\" y=\"-340.3\">output:</text>\n",
       "<polyline fill=\"none\" points=\"187.5,-332.5 187.5,-378.5 \" stroke=\"black\"/>\n",
       "<text font-family=\"Times,serif\" font-size=\"14.00\" text-anchor=\"middle\" x=\"229\" y=\"-363.3\">(None, 784)</text>\n",
       "<polyline fill=\"none\" points=\"187.5,-355.5 270.5,-355.5 \" stroke=\"black\"/>\n",
       "<text font-family=\"Times,serif\" font-size=\"14.00\" text-anchor=\"middle\" x=\"229\" y=\"-340.3\">(None, 512)</text>\n",
       "</g>\n",
       "<!-- 140528776983272&#45;&gt;140528776982712 -->\n",
       "<g class=\"edge\" id=\"edge1\"><title>140528776983272-&gt;140528776982712</title>\n",
       "<path d=\"M150.5,-415.366C150.5,-407.152 150.5,-397.658 150.5,-388.725\" fill=\"none\" stroke=\"black\"/>\n",
       "<polygon fill=\"black\" points=\"154,-388.607 150.5,-378.607 147,-388.607 154,-388.607\" stroke=\"black\"/>\n",
       "</g>\n",
       "<!-- 140528776982880 -->\n",
       "<g class=\"node\" id=\"node3\"><title>140528776982880</title>\n",
       "<polygon fill=\"none\" points=\"19,-249.5 19,-295.5 282,-295.5 282,-249.5 19,-249.5\" stroke=\"black\"/>\n",
       "<text font-family=\"Times,serif\" font-size=\"14.00\" text-anchor=\"middle\" x=\"81.5\" y=\"-268.8\">dropout_1: Dropout</text>\n",
       "<polyline fill=\"none\" points=\"144,-249.5 144,-295.5 \" stroke=\"black\"/>\n",
       "<text font-family=\"Times,serif\" font-size=\"14.00\" text-anchor=\"middle\" x=\"171.5\" y=\"-280.3\">input:</text>\n",
       "<polyline fill=\"none\" points=\"144,-272.5 199,-272.5 \" stroke=\"black\"/>\n",
       "<text font-family=\"Times,serif\" font-size=\"14.00\" text-anchor=\"middle\" x=\"171.5\" y=\"-257.3\">output:</text>\n",
       "<polyline fill=\"none\" points=\"199,-249.5 199,-295.5 \" stroke=\"black\"/>\n",
       "<text font-family=\"Times,serif\" font-size=\"14.00\" text-anchor=\"middle\" x=\"240.5\" y=\"-280.3\">(None, 512)</text>\n",
       "<polyline fill=\"none\" points=\"199,-272.5 282,-272.5 \" stroke=\"black\"/>\n",
       "<text font-family=\"Times,serif\" font-size=\"14.00\" text-anchor=\"middle\" x=\"240.5\" y=\"-257.3\">(None, 512)</text>\n",
       "</g>\n",
       "<!-- 140528776982712&#45;&gt;140528776982880 -->\n",
       "<g class=\"edge\" id=\"edge2\"><title>140528776982712-&gt;140528776982880</title>\n",
       "<path d=\"M150.5,-332.366C150.5,-324.152 150.5,-314.658 150.5,-305.725\" fill=\"none\" stroke=\"black\"/>\n",
       "<polygon fill=\"black\" points=\"154,-305.607 150.5,-295.607 147,-305.607 154,-305.607\" stroke=\"black\"/>\n",
       "</g>\n",
       "<!-- 140528776983496 -->\n",
       "<g class=\"node\" id=\"node4\"><title>140528776983496</title>\n",
       "<polygon fill=\"none\" points=\"30.5,-166.5 30.5,-212.5 270.5,-212.5 270.5,-166.5 30.5,-166.5\" stroke=\"black\"/>\n",
       "<text font-family=\"Times,serif\" font-size=\"14.00\" text-anchor=\"middle\" x=\"81.5\" y=\"-185.8\">dense_2: Dense</text>\n",
       "<polyline fill=\"none\" points=\"132.5,-166.5 132.5,-212.5 \" stroke=\"black\"/>\n",
       "<text font-family=\"Times,serif\" font-size=\"14.00\" text-anchor=\"middle\" x=\"160\" y=\"-197.3\">input:</text>\n",
       "<polyline fill=\"none\" points=\"132.5,-189.5 187.5,-189.5 \" stroke=\"black\"/>\n",
       "<text font-family=\"Times,serif\" font-size=\"14.00\" text-anchor=\"middle\" x=\"160\" y=\"-174.3\">output:</text>\n",
       "<polyline fill=\"none\" points=\"187.5,-166.5 187.5,-212.5 \" stroke=\"black\"/>\n",
       "<text font-family=\"Times,serif\" font-size=\"14.00\" text-anchor=\"middle\" x=\"229\" y=\"-197.3\">(None, 512)</text>\n",
       "<polyline fill=\"none\" points=\"187.5,-189.5 270.5,-189.5 \" stroke=\"black\"/>\n",
       "<text font-family=\"Times,serif\" font-size=\"14.00\" text-anchor=\"middle\" x=\"229\" y=\"-174.3\">(None, 512)</text>\n",
       "</g>\n",
       "<!-- 140528776982880&#45;&gt;140528776983496 -->\n",
       "<g class=\"edge\" id=\"edge3\"><title>140528776982880-&gt;140528776983496</title>\n",
       "<path d=\"M150.5,-249.366C150.5,-241.152 150.5,-231.658 150.5,-222.725\" fill=\"none\" stroke=\"black\"/>\n",
       "<polygon fill=\"black\" points=\"154,-222.607 150.5,-212.607 147,-222.607 154,-222.607\" stroke=\"black\"/>\n",
       "</g>\n",
       "<!-- 140528776984000 -->\n",
       "<g class=\"node\" id=\"node5\"><title>140528776984000</title>\n",
       "<polygon fill=\"none\" points=\"19,-83.5 19,-129.5 282,-129.5 282,-83.5 19,-83.5\" stroke=\"black\"/>\n",
       "<text font-family=\"Times,serif\" font-size=\"14.00\" text-anchor=\"middle\" x=\"81.5\" y=\"-102.8\">dropout_2: Dropout</text>\n",
       "<polyline fill=\"none\" points=\"144,-83.5 144,-129.5 \" stroke=\"black\"/>\n",
       "<text font-family=\"Times,serif\" font-size=\"14.00\" text-anchor=\"middle\" x=\"171.5\" y=\"-114.3\">input:</text>\n",
       "<polyline fill=\"none\" points=\"144,-106.5 199,-106.5 \" stroke=\"black\"/>\n",
       "<text font-family=\"Times,serif\" font-size=\"14.00\" text-anchor=\"middle\" x=\"171.5\" y=\"-91.3\">output:</text>\n",
       "<polyline fill=\"none\" points=\"199,-83.5 199,-129.5 \" stroke=\"black\"/>\n",
       "<text font-family=\"Times,serif\" font-size=\"14.00\" text-anchor=\"middle\" x=\"240.5\" y=\"-114.3\">(None, 512)</text>\n",
       "<polyline fill=\"none\" points=\"199,-106.5 282,-106.5 \" stroke=\"black\"/>\n",
       "<text font-family=\"Times,serif\" font-size=\"14.00\" text-anchor=\"middle\" x=\"240.5\" y=\"-91.3\">(None, 512)</text>\n",
       "</g>\n",
       "<!-- 140528776983496&#45;&gt;140528776984000 -->\n",
       "<g class=\"edge\" id=\"edge4\"><title>140528776983496-&gt;140528776984000</title>\n",
       "<path d=\"M150.5,-166.366C150.5,-158.152 150.5,-148.658 150.5,-139.725\" fill=\"none\" stroke=\"black\"/>\n",
       "<polygon fill=\"black\" points=\"154,-139.607 150.5,-129.607 147,-139.607 154,-139.607\" stroke=\"black\"/>\n",
       "</g>\n",
       "<!-- 140529395773736 -->\n",
       "<g class=\"node\" id=\"node6\"><title>140529395773736</title>\n",
       "<polygon fill=\"none\" points=\"30.5,-0.5 30.5,-46.5 270.5,-46.5 270.5,-0.5 30.5,-0.5\" stroke=\"black\"/>\n",
       "<text font-family=\"Times,serif\" font-size=\"14.00\" text-anchor=\"middle\" x=\"81.5\" y=\"-19.8\">dense_3: Dense</text>\n",
       "<polyline fill=\"none\" points=\"132.5,-0.5 132.5,-46.5 \" stroke=\"black\"/>\n",
       "<text font-family=\"Times,serif\" font-size=\"14.00\" text-anchor=\"middle\" x=\"160\" y=\"-31.3\">input:</text>\n",
       "<polyline fill=\"none\" points=\"132.5,-23.5 187.5,-23.5 \" stroke=\"black\"/>\n",
       "<text font-family=\"Times,serif\" font-size=\"14.00\" text-anchor=\"middle\" x=\"160\" y=\"-8.3\">output:</text>\n",
       "<polyline fill=\"none\" points=\"187.5,-0.5 187.5,-46.5 \" stroke=\"black\"/>\n",
       "<text font-family=\"Times,serif\" font-size=\"14.00\" text-anchor=\"middle\" x=\"229\" y=\"-31.3\">(None, 512)</text>\n",
       "<polyline fill=\"none\" points=\"187.5,-23.5 270.5,-23.5 \" stroke=\"black\"/>\n",
       "<text font-family=\"Times,serif\" font-size=\"14.00\" text-anchor=\"middle\" x=\"229\" y=\"-8.3\">(None, 10)</text>\n",
       "</g>\n",
       "<!-- 140528776984000&#45;&gt;140529395773736 -->\n",
       "<g class=\"edge\" id=\"edge5\"><title>140528776984000-&gt;140529395773736</title>\n",
       "<path d=\"M150.5,-83.3664C150.5,-75.1516 150.5,-65.6579 150.5,-56.7252\" fill=\"none\" stroke=\"black\"/>\n",
       "<polygon fill=\"black\" points=\"154,-56.6068 150.5,-46.6068 147,-56.6069 154,-56.6068\" stroke=\"black\"/>\n",
       "</g>\n",
       "</g>\n",
       "</svg>"
      ],
      "text/plain": [
       "<IPython.core.display.SVG object>"
      ]
     },
     "execution_count": 6,
     "metadata": {},
     "output_type": "execute_result"
    }
   ],
   "source": [
    "# モデルの構築\n",
    "model = Sequential()\n",
    "model.add(Dense(512, activation='relu', input_shape=(784,))) # 入力が784次元、出力が512次元\n",
    "model.add(Dropout(0.2))                                      # 過学習を防ぐため20%の入力を破棄\n",
    "model.add(Dense(512, activation='relu'))                     # 出力が512次元 (入力は512次元)\n",
    "model.add(Dropout(0.2))                                      # 過学習を防ぐため20%の入力を破棄\n",
    "model.add(Dense(num_classes, activation='softmax'))          # 出力が10次元(判別結果0-9)\n",
    "\n",
    "model.summary()\n",
    "\n",
    "# モデルのコンパイル\n",
    "model.compile(loss='categorical_crossentropy',\n",
    "              optimizer=RMSprop(),\n",
    "              metrics=['accuracy'])\n",
    "\n",
    "# モデルの可視化\n",
    "from IPython.display import SVG\n",
    "from keras.utils.vis_utils import model_to_dot\n",
    "SVG(model_to_dot(model=model, show_shapes=True, show_layer_names=True).create(prog='dot', format='svg'))"
   ]
  },
  {
   "cell_type": "code",
   "execution_count": 7,
   "metadata": {},
   "outputs": [
    {
     "name": "stdout",
     "output_type": "stream",
     "text": [
      "Train on 60000 samples, validate on 10000 samples\n",
      "Epoch 1/20\n",
      "60000/60000 [==============================] - 15s 256us/step - loss: 0.9800 - acc: 0.7675 - val_loss: 0.6112 - val_acc: 0.8556\n",
      "Epoch 2/20\n",
      "60000/60000 [==============================] - 15s 255us/step - loss: 0.8279 - acc: 0.8372 - val_loss: 1.3133 - val_acc: 0.8067\n",
      "Epoch 3/20\n",
      "60000/60000 [==============================] - 16s 268us/step - loss: 1.8205 - acc: 0.8236 - val_loss: 2.1193 - val_acc: 0.8305\n",
      "Epoch 4/20\n",
      "60000/60000 [==============================] - 18s 308us/step - loss: 2.8449 - acc: 0.7986 - val_loss: 5.0068 - val_acc: 0.6717\n",
      "Epoch 5/20\n",
      "60000/60000 [==============================] - 15s 254us/step - loss: 3.3482 - acc: 0.7791 - val_loss: 2.6347 - val_acc: 0.8279\n",
      "Epoch 6/20\n",
      "60000/60000 [==============================] - 15s 244us/step - loss: 3.7974 - acc: 0.7559 - val_loss: 3.2445 - val_acc: 0.7914\n",
      "Epoch 7/20\n",
      "60000/60000 [==============================] - 14s 236us/step - loss: 4.0690 - acc: 0.7427 - val_loss: 2.4923 - val_acc: 0.8410\n",
      "Epoch 8/20\n",
      "60000/60000 [==============================] - 14s 234us/step - loss: 4.7155 - acc: 0.7040 - val_loss: 4.9120 - val_acc: 0.6921\n",
      "Epoch 9/20\n",
      "60000/60000 [==============================] - 15s 243us/step - loss: 5.2275 - acc: 0.6732 - val_loss: 5.8246 - val_acc: 0.6367\n",
      "Epoch 10/20\n",
      "60000/60000 [==============================] - 15s 255us/step - loss: 4.9329 - acc: 0.6916 - val_loss: 5.8963 - val_acc: 0.6316\n",
      "Epoch 11/20\n",
      "60000/60000 [==============================] - 15s 255us/step - loss: 4.9590 - acc: 0.6902 - val_loss: 3.5222 - val_acc: 0.7801\n",
      "Epoch 12/20\n",
      "60000/60000 [==============================] - 15s 257us/step - loss: 5.1442 - acc: 0.6792 - val_loss: 3.6444 - val_acc: 0.7727\n",
      "Epoch 13/20\n",
      "60000/60000 [==============================] - 16s 265us/step - loss: 5.4110 - acc: 0.6629 - val_loss: 5.5425 - val_acc: 0.6550\n",
      "Epoch 14/20\n",
      "60000/60000 [==============================] - 15s 258us/step - loss: 5.4950 - acc: 0.6580 - val_loss: 5.2344 - val_acc: 0.6739\n",
      "Epoch 15/20\n",
      "60000/60000 [==============================] - 16s 270us/step - loss: 5.6105 - acc: 0.6508 - val_loss: 4.2916 - val_acc: 0.7328\n",
      "Epoch 16/20\n",
      "60000/60000 [==============================] - 16s 271us/step - loss: 5.6281 - acc: 0.6499 - val_loss: 5.2341 - val_acc: 0.6740\n",
      "Epoch 17/20\n",
      "60000/60000 [==============================] - 14s 238us/step - loss: 5.5566 - acc: 0.6542 - val_loss: 4.5729 - val_acc: 0.7154\n",
      "Epoch 18/20\n",
      "60000/60000 [==============================] - 15s 249us/step - loss: 6.1086 - acc: 0.6201 - val_loss: 5.5528 - val_acc: 0.6547\n",
      "Epoch 19/20\n",
      "60000/60000 [==============================] - 15s 247us/step - loss: 5.7720 - acc: 0.6409 - val_loss: 4.6588 - val_acc: 0.7106\n",
      "Epoch 20/20\n",
      "60000/60000 [==============================] - 14s 241us/step - loss: 5.6911 - acc: 0.6461 - val_loss: 4.8040 - val_acc: 0.7014\n"
     ]
    }
   ],
   "source": [
    "# 学習\n",
    "#from keras.callbacks import EarlyStopping\n",
    "#early_stopping = EarlyStopping(patience=0, verbose=1)\n",
    "#epochs = 50\n",
    "\n",
    "history = model.fit(x_train, y_train,                    # 学習用画像データとラベルデータ\n",
    "                    batch_size=batch_size,\n",
    "                    epochs=epochs,                       # 学習回数\n",
    "                    verbose=1,                           # ログ出力 1:出力\n",
    "                    #callbacks=[early_stopping],            # callback\n",
    "                    validation_data=(x_test, y_test))    # テスト用画像データ、ラベルデータ"
   ]
  },
  {
   "cell_type": "code",
   "execution_count": 8,
   "metadata": {},
   "outputs": [
    {
     "name": "stdout",
     "output_type": "stream",
     "text": [
      "10000/10000 [==============================] - 1s 114us/step\n",
      "Test loss: 4.804008652114868\n",
      "Test accuracy: 0.7014\n"
     ]
    }
   ],
   "source": [
    "# モデルの評価\n",
    "score = model.evaluate(x_test, y_test, verbose=1)\n",
    "print('Test loss:', score[0])\n",
    "print('Test accuracy:', score[1])"
   ]
  },
  {
   "cell_type": "code",
   "execution_count": 9,
   "metadata": {},
   "outputs": [
    {
     "data": {
      "image/png": "[encoded data removed]",
      "text/plain": [
       "<matplotlib.figure.Figure at 0x7fcf65bebb70>"
      ]
     },
     "metadata": {},
     "output_type": "display_data"
    }
   ],
   "source": [
    "# 結果を可視化\n",
    "from matplotlib import pyplot as plt\n",
    "import seaborn as sns\n",
    "sns.set()\n",
    "%matplotlib inline\n",
    "\n",
    "loss     = history.history['loss']\n",
    "val_loss = history.history['val_loss']\n",
    "\n",
    "nb_epoch = len(loss)\n",
    "plt.plot(range(nb_epoch), loss,     marker='.', label='loss')\n",
    "plt.plot(range(nb_epoch), val_loss, marker='.', label='val_loss')\n",
    "plt.legend(loc='best', fontsize=10, frameon=True)\n",
    "plt.xlabel('epoch')\n",
    "plt.ylabel('loss')\n",
    "plt.show()"
   ]
  },
  {
   "cell_type": "code",
   "execution_count": 10,
   "metadata": {},
   "outputs": [],
   "source": [
    "# ん？"
   ]
  }
 ],
 "metadata": {
  "kernelspec": {
   "display_name": "Python 3",
   "language": "python",
   "name": "python3"
  },
  "language_info": {
   "codemirror_mode": {
    "name": "ipython",
    "version": 3
   },
   "file_extension": ".py",
   "mimetype": "text/x-python",
   "name": "python",
   "nbconvert_exporter": "python",
   "pygments_lexer": "ipython3",
   "version": "3.6.1"
  }
 },
 "nbformat": 4,
 "nbformat_minor": 2
}
