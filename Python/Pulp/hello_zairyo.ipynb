{
 "cells": [
  {
   "cell_type": "markdown",
   "metadata": {},
   "source": [
    "https://qiita.com/SaitoTsutomu/items/070ca9cb37c6b2b492f0"
   ]
  },
  {
   "cell_type": "markdown",
   "metadata": {},
   "source": [
    "材料AとBから合成できる化学製品XとYをたくさん作成したい。  \n",
    "Xを1kg作るのに、Aが1kg、Bが3kg必要である。  \n",
    "Yを1kg作るのに、Aが2kg、Bが1kg必要である。  \n",
    "また、XもYも1kg当りの価格は100円である。  \n",
    "材料Aは16kg、Bは18kgしかないときに、XとYの価格の合計が最大になるようにするには、  \n",
    "XとYをどれだけ作成すればよいか求めよ。  "
   ]
  },
  {
   "cell_type": "code",
   "execution_count": 1,
   "metadata": {},
   "outputs": [],
   "source": [
    "import pulp"
   ]
  },
  {
   "cell_type": "code",
   "execution_count": 2,
   "metadata": {},
   "outputs": [],
   "source": [
    "# problem\n",
    "p = pulp.LpProblem('zairyo saiteki', pulp.LpMaximize)"
   ]
  },
  {
   "cell_type": "code",
   "execution_count": 3,
   "metadata": {},
   "outputs": [],
   "source": [
    "# variables\n",
    "x = pulp.LpVariable('x', cat='Integer')\n",
    "y = pulp.LpVariable('y', cat='Integer')"
   ]
  },
  {
   "cell_type": "code",
   "execution_count": 4,
   "metadata": {},
   "outputs": [],
   "source": [
    "# target\n",
    "p += 100*x + 100*y"
   ]
  },
  {
   "cell_type": "code",
   "execution_count": 5,
   "metadata": {},
   "outputs": [],
   "source": [
    "# subject\n",
    "p += x + 2*y <= 16\n",
    "p += 3*x + y <= 18"
   ]
  },
  {
   "cell_type": "code",
   "execution_count": 6,
   "metadata": {
    "scrolled": true
   },
   "outputs": [
    {
     "name": "stdout",
     "output_type": "stream",
     "text": [
      "zairyo saiteki:\n",
      "MAXIMIZE\n",
      "100*x + 100*y + 0\n",
      "SUBJECT TO\n",
      "_C1: x + 2 y <= 16\n",
      "\n",
      "_C2: 3 x + y <= 18\n",
      "\n",
      "VARIABLES\n",
      "x free Integer\n",
      "y free Integer\n",
      "\n"
     ]
    }
   ],
   "source": [
    "# summary\n",
    "print(p)"
   ]
  },
  {
   "cell_type": "code",
   "execution_count": 7,
   "metadata": {},
   "outputs": [
    {
     "name": "stdout",
     "output_type": "stream",
     "text": [
      "Optimal\n",
      "Result\n",
      "x 4.0\n",
      "y 6.0\n"
     ]
    }
   ],
   "source": [
    "# solve\n",
    "status = p.solve()\n",
    "print(pulp.LpStatus[status])\n",
    "print(\"Result\")\n",
    "print(\"x\", x.value())\n",
    "print(\"y\", y.value())"
   ]
  },
  {
   "cell_type": "code",
   "execution_count": 8,
   "metadata": {},
   "outputs": [
    {
     "name": "stdout",
     "output_type": "stream",
     "text": [
      "MAX VALUE 100 * 4 + 100 * 6 = 1000\n"
     ]
    }
   ],
   "source": [
    "max_value = 100 * x.value() + 100 * y.value()\n",
    "print(\"MAX VALUE\", \"100 * %d + 100 * %d = %d\" % (x.value(), y.value(), max_value))"
   ]
  },
  {
   "cell_type": "code",
   "execution_count": null,
   "metadata": {},
   "outputs": [],
   "source": []
  }
 ],
 "metadata": {
  "kernelspec": {
   "display_name": "Python 3",
   "language": "python",
   "name": "python3"
  },
  "language_info": {
   "codemirror_mode": {
    "name": "ipython",
    "version": 3
   },
   "file_extension": ".py",
   "mimetype": "text/x-python",
   "name": "python",
   "nbconvert_exporter": "python",
   "pygments_lexer": "ipython3",
   "version": "3.6.1"
  }
 },
 "nbformat": 4,
 "nbformat_minor": 2
}
