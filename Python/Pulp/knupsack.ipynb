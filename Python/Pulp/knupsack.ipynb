{
 "cells": [
  {
   "cell_type": "code",
   "execution_count": 1,
   "metadata": {},
   "outputs": [],
   "source": [
    "import pulp"
   ]
  },
  {
   "cell_type": "code",
   "execution_count": 2,
   "metadata": {},
   "outputs": [],
   "source": [
    "# Data\n",
    "size = [21,11,15,9,34,25,41,52]\n",
    "weight = [22,12,16,10,35,26,42,53]\n",
    "capacity = 100\n",
    "r = range(len(size))"
   ]
  },
  {
   "cell_type": "code",
   "execution_count": 3,
   "metadata": {},
   "outputs": [],
   "source": [
    "# 問題\n",
    "p = pulp.LpProblem('knupsack', pulp.LpMaximize)"
   ]
  },
  {
   "cell_type": "code",
   "execution_count": 4,
   "metadata": {},
   "outputs": [
    {
     "data": {
      "text/plain": [
       "[x0, x1, x2, x3, x4, x5, x6, x7]"
      ]
     },
     "execution_count": 4,
     "metadata": {},
     "output_type": "execute_result"
    }
   ],
   "source": [
    "# 変数\n",
    "x = [pulp.LpVariable('x%d'%i, cat=pulp.LpBinary) for i in r]\n",
    "x"
   ]
  },
  {
   "cell_type": "code",
   "execution_count": 5,
   "metadata": {},
   "outputs": [],
   "source": [
    "# 目的関数\n",
    "p += pulp.lpDot(weight, x)"
   ]
  },
  {
   "cell_type": "code",
   "execution_count": 6,
   "metadata": {},
   "outputs": [],
   "source": [
    "# 制約条件\n",
    "p += pulp.lpDot(size, x) <= capacity"
   ]
  },
  {
   "cell_type": "code",
   "execution_count": 7,
   "metadata": {},
   "outputs": [
    {
     "data": {
      "text/plain": [
       "knupsack:\n",
       "MAXIMIZE\n",
       "22*x0 + 12*x1 + 16*x2 + 10*x3 + 35*x4 + 26*x5 + 42*x6 + 53*x7 + 0\n",
       "SUBJECT TO\n",
       "_C1: 21 x0 + 11 x1 + 15 x2 + 9 x3 + 34 x4 + 25 x5 + 41 x6 + 52 x7 <= 100\n",
       "\n",
       "VARIABLES\n",
       "0 <= x0 <= 1 Integer\n",
       "0 <= x1 <= 1 Integer\n",
       "0 <= x2 <= 1 Integer\n",
       "0 <= x3 <= 1 Integer\n",
       "0 <= x4 <= 1 Integer\n",
       "0 <= x5 <= 1 Integer\n",
       "0 <= x6 <= 1 Integer\n",
       "0 <= x7 <= 1 Integer"
      ]
     },
     "execution_count": 7,
     "metadata": {},
     "output_type": "execute_result"
    }
   ],
   "source": [
    "p"
   ]
  },
  {
   "cell_type": "code",
   "execution_count": 8,
   "metadata": {},
   "outputs": [
    {
     "data": {
      "text/plain": [
       "1"
      ]
     },
     "execution_count": 8,
     "metadata": {},
     "output_type": "execute_result"
    }
   ],
   "source": [
    "p.solve()"
   ]
  },
  {
   "cell_type": "code",
   "execution_count": 9,
   "metadata": {},
   "outputs": [
    {
     "data": {
      "text/plain": [
       "105.0"
      ]
     },
     "execution_count": 9,
     "metadata": {},
     "output_type": "execute_result"
    }
   ],
   "source": [
    "pulp.value(p.objective)"
   ]
  },
  {
   "cell_type": "code",
   "execution_count": 10,
   "metadata": {},
   "outputs": [],
   "source": [
    "a = [i for i in r if pulp.value(x[i]) > 0.5]"
   ]
  },
  {
   "cell_type": "code",
   "execution_count": 11,
   "metadata": {},
   "outputs": [
    {
     "data": {
      "text/plain": [
       "100"
      ]
     },
     "execution_count": 11,
     "metadata": {},
     "output_type": "execute_result"
    }
   ],
   "source": [
    "# 容量の制約条件を満たしている\n",
    "sum([size[i] for i in a])"
   ]
  },
  {
   "cell_type": "code",
   "execution_count": 12,
   "metadata": {},
   "outputs": [
    {
     "data": {
      "text/plain": [
       "105"
      ]
     },
     "execution_count": 12,
     "metadata": {},
     "output_type": "execute_result"
    }
   ],
   "source": [
    "# 価値を最大化している\n",
    "sum([weight[i] for i in a])"
   ]
  }
 ],
 "metadata": {
  "kernelspec": {
   "display_name": "Python 3",
   "language": "python",
   "name": "python3"
  },
  "language_info": {
   "codemirror_mode": {
    "name": "ipython",
    "version": 3
   },
   "file_extension": ".py",
   "mimetype": "text/x-python",
   "name": "python",
   "nbconvert_exporter": "python",
   "pygments_lexer": "ipython3",
   "version": "3.6.1"
  }
 },
 "nbformat": 4,
 "nbformat_minor": 2
}
