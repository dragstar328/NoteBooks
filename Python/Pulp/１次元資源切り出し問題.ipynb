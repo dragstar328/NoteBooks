{
 "cells": [
  {
   "cell_type": "code",
   "execution_count": 2,
   "metadata": {},
   "outputs": [],
   "source": [
    "import numpy as np\n",
    "import pandas as pd\n",
    "from pulp import *\n",
    "\n",
    "from sympy import *\n",
    "init_printing()"
   ]
  },
  {
   "cell_type": "markdown",
   "metadata": {},
   "source": [
    "長さLの母材と製品の集合M={1,2,3,,,,m}が与えられ、各製品iに対して長さliと注文数diが与えられる。一本の母材から切り出せあれる製品の組み合わせを考える。パターンpjに福間エル製品iの数をaijとすると、各パターンPj={a1j, a2j,,,amj}が満たすべき条件は以下の通りに書ける"
   ]
  },
  {
   "cell_type": "code",
   "execution_count": 19,
   "metadata": {},
   "outputs": [
    {
     "data": {
      "image/png": "[encoded data removed]",
      "text/latex": [
       "$$\\sum_{i=1}^{m} a{\\left (i,j \\right )} l{\\left (i \\right )} \\leq L$$"
      ],
      "text/plain": [
       "  m                   \n",
       " ___                  \n",
       " ╲                    \n",
       "  ╲   a(i, j)⋅l(i)    \n",
       "  ╱                ≤ L\n",
       " ╱                    \n",
       " ‾‾‾                  \n",
       "i = 1                 "
      ]
     },
     "execution_count": 19,
     "metadata": {},
     "output_type": "execute_result"
    }
   ],
   "source": [
    "a, j, l, i, m, L = symbols('a, j, l, i, m, L')\n",
    "Sum((a(i, j) * l(i)), (i, 1, m)) <= L"
   ]
  },
  {
   "cell_type": "markdown",
   "metadata": {},
   "source": [
    "長さL=100の母材から長さl1=26の製品１本と、長さl2=31の製品２本を切り出すパターン"
   ]
  },
  {
   "cell_type": "code",
   "execution_count": 31,
   "metadata": {},
   "outputs": [
    {
     "data": {
      "image/png": "[encoded data removed]",
      "text/latex": [
       "$$\\sum_{j=1}^{n} x{\\left (j \\right )}$$"
      ],
      "text/plain": [
       "  n       \n",
       " ___      \n",
       " ╲        \n",
       "  ╲   x(j)\n",
       "  ╱       \n",
       " ╱        \n",
       " ‾‾‾      \n",
       "j = 1     "
      ]
     },
     "execution_count": 31,
     "metadata": {},
     "output_type": "execute_result"
    }
   ],
   "source": [
    "a, d, n, j, x = symbols('a, d, n, j, x')\n",
    "# 目的関数　最小化\n",
    "Sum((x(j)), (j, 1, n))"
   ]
  },
  {
   "cell_type": "code",
   "execution_count": 32,
   "metadata": {},
   "outputs": [
    {
     "data": {
      "image/png": "[encoded data removed]",
      "text/latex": [
       "$$\\sum_{j=1}^{n} a{\\left (i,j \\right )} x{\\left (j \\right )} \\geq d{\\left (i \\right )}$$"
      ],
      "text/plain": [
       "  n                      \n",
       " ___                     \n",
       " ╲                       \n",
       "  ╲   a(i, j)⋅x(j)       \n",
       "  ╱                ≥ d(i)\n",
       " ╱                       \n",
       " ‾‾‾                     \n",
       "j = 1                    "
      ]
     },
     "execution_count": 32,
     "metadata": {},
     "output_type": "execute_result"
    }
   ],
   "source": [
    "# 制約条件１\n",
    "Sum((a(i, j) * x(j)), (j, 1, n))>=d(i)"
   ]
  },
  {
   "cell_type": "code",
   "execution_count": 33,
   "metadata": {
    "scrolled": true
   },
   "outputs": [
    {
     "data": {
      "image/png": "[encoded data removed]",
      "text/latex": [
       "$$x{\\left (j \\right )} \\geq 0$$"
      ],
      "text/plain": [
       "x(j) ≥ 0"
      ]
     },
     "execution_count": 33,
     "metadata": {},
     "output_type": "execute_result"
    }
   ],
   "source": [
    "# 制約条件２\n",
    "x(j)>=0"
   ]
  },
  {
   "cell_type": "code",
   "execution_count": 44,
   "metadata": {},
   "outputs": [
    {
     "data": {
      "text/plain": [
       "[<__main__.SeihinM at 0x7f9108b0a550>, <__main__.SeihinM at 0x7f9108a88710>]"
      ]
     },
     "execution_count": 44,
     "metadata": {},
     "output_type": "execute_result"
    }
   ],
   "source": [
    "# モデル構築\n",
    "m = LpProblem(\"cutting problem\", pulp.LpMinimize)\n",
    "\n",
    "# 製品クラス\n",
    "class SeihinM:\n",
    "    def __init__(self, props):\n",
    "        self.nagasa = props['l']\n",
    "        self.orders = props['d']\n",
    "\n",
    "mList = []\n",
    "mList.append(SeihinM({'l': 36, 'd': 1}))\n",
    "mList.append(SeihinM({'l': 31, 'd': 2}))\n",
    "\n",
    "# 変数\n",
    "\n",
    "\n",
    "# 目的関数\n",
    "\n",
    "\n",
    "# 制約条件\n",
    "\n"
   ]
  },
  {
   "cell_type": "code",
   "execution_count": 40,
   "metadata": {},
   "outputs": [
    {
     "name": "stdout",
     "output_type": "stream",
     "text": [
      "CPU times: user 0 ns, sys: 5.83 ms, total: 5.83 ms\n",
      "Wall time: 15.1 ms\n"
     ]
    },
    {
     "data": {
      "image/png": "[encoded data removed]",
      "text/latex": [
       "$$1$$"
      ],
      "text/plain": [
       "1"
      ]
     },
     "execution_count": 40,
     "metadata": {},
     "output_type": "execute_result"
    }
   ],
   "source": [
    "%time m.solve()"
   ]
  },
  {
   "cell_type": "code",
   "execution_count": null,
   "metadata": {},
   "outputs": [],
   "source": []
  }
 ],
 "metadata": {
  "kernelspec": {
   "display_name": "Python 3",
   "language": "python",
   "name": "python3"
  },
  "language_info": {
   "codemirror_mode": {
    "name": "ipython",
    "version": 3
   },
   "file_extension": ".py",
   "mimetype": "text/x-python",
   "name": "python",
   "nbconvert_exporter": "python",
   "pygments_lexer": "ipython3",
   "version": "3.6.1"
  }
 },
 "nbformat": 4,
 "nbformat_minor": 2
}
