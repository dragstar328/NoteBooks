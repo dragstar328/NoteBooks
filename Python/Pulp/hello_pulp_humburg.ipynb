{
 "cells": [
  {
   "cell_type": "markdown",
   "metadata": {},
   "source": [
    "http://dragstar.hatenablog.com/entry/2015/03/23/114335"
   ]
  },
  {
   "cell_type": "markdown",
   "metadata": {},
   "source": [
    "あるレストランで、手持ちの材料からハンバーグとオムレツを作って利益を最大にしたいと考えている。手持ちの材料は\n",
    "\n",
    "- ひき肉 3800g\n",
    "- タマネギ 2100g\n",
    "- ケチャップ 1200g\n",
    "\n",
    "であり、それぞれの品を作るのに必要な材料の量は\n",
    "\n",
    "- ハンバーグ１個あたり　ひき肉60g、タマネギ20g、ケチャップ 20g\n",
    "- オムレツ１個あたり　ひき肉40g、タマネギ30g、ケチャップ10g\n",
    "\n",
    "であるとする。販売価格は\n",
    "- ハンバーグ 400円\n",
    "- オムレツ　300円\n",
    "\n",
    "とする。総売り上げを最大にするには、それぞれハンバーグとオムレツを幾つずつ作ればよいか"
   ]
  },
  {
   "cell_type": "code",
   "execution_count": 1,
   "metadata": {},
   "outputs": [],
   "source": [
    "import pulp"
   ]
  },
  {
   "cell_type": "code",
   "execution_count": 2,
   "metadata": {},
   "outputs": [],
   "source": [
    "p = pulp.LpProblem('humbrug and omlet', pulp.LpMaximize)"
   ]
  },
  {
   "cell_type": "code",
   "execution_count": 3,
   "metadata": {},
   "outputs": [],
   "source": [
    "# variables\n",
    "x = pulp.LpVariable('x', cat='Integer')\n",
    "y = pulp.LpVariable('y', cat='Integer')"
   ]
  },
  {
   "cell_type": "code",
   "execution_count": 4,
   "metadata": {},
   "outputs": [
    {
     "data": {
      "text/plain": [
       "humbrug and omlet:\n",
       "MAXIMIZE\n",
       "400*x + 300*y + 0\n",
       "VARIABLES\n",
       "x free Integer\n",
       "y free Integer"
      ]
     },
     "execution_count": 4,
     "metadata": {},
     "output_type": "execute_result"
    }
   ],
   "source": [
    "# maximize\n",
    "p += 400*x + 300*y\n",
    "p"
   ]
  },
  {
   "cell_type": "code",
   "execution_count": 5,
   "metadata": {},
   "outputs": [
    {
     "data": {
      "text/plain": [
       "humbrug and omlet:\n",
       "MAXIMIZE\n",
       "400*x + 300*y + 0\n",
       "SUBJECT TO\n",
       "_C1: 60 x + 40 y <= 3800\n",
       "\n",
       "_C2: 20 x + 30 y <= 2100\n",
       "\n",
       "_C3: 20 x + 10 y <= 1200\n",
       "\n",
       "VARIABLES\n",
       "x free Integer\n",
       "y free Integer"
      ]
     },
     "execution_count": 5,
     "metadata": {},
     "output_type": "execute_result"
    }
   ],
   "source": [
    "# subjects\n",
    "p += 60*x + 40*y <= 3800\n",
    "p += 20*x + 30*y <= 2100\n",
    "p += 20*x + 10*y <= 1200\n",
    "p"
   ]
  },
  {
   "cell_type": "code",
   "execution_count": 6,
   "metadata": {},
   "outputs": [
    {
     "name": "stdout",
     "output_type": "stream",
     "text": [
      "Optimal\n",
      "400*x + 300*y\n",
      "Result\n",
      "x 30.0\n",
      "y 50.0\n",
      "Objective\n",
      "27000.0\n"
     ]
    }
   ],
   "source": [
    "status = p.solve()\n",
    "\n",
    "print(pulp.LpStatus[status])\n",
    "print(p.objective)\n",
    "\n",
    "print(\"Result\")\n",
    "print(\"x\", x.value())\n",
    "print(\"y\", y.value())\n",
    "\n",
    "print(\"Objective\")\n",
    "print(pulp.value(p.objective))"
   ]
  },
  {
   "cell_type": "code",
   "execution_count": 7,
   "metadata": {},
   "outputs": [
    {
     "data": {
      "text/plain": [
       "27000.0"
      ]
     },
     "execution_count": 7,
     "metadata": {},
     "output_type": "execute_result"
    }
   ],
   "source": [
    "max_value = 400 * x.value() + 300 * y.value()\n",
    "max_value"
   ]
  },
  {
   "cell_type": "code",
   "execution_count": 8,
   "metadata": {},
   "outputs": [
    {
     "name": "stdout",
     "output_type": "stream",
     "text": [
      "MAX VALUE 400 * 30 + 300 * 50 = 27000\n"
     ]
    }
   ],
   "source": [
    "print(\"MAX VALUE\", \"400 * %d + 300 * %d = %d\" % (x.value(), y.value(), max_value))"
   ]
  },
  {
   "cell_type": "code",
   "execution_count": 9,
   "metadata": {},
   "outputs": [],
   "source": [
    "#Plot"
   ]
  },
  {
   "cell_type": "code",
   "execution_count": 10,
   "metadata": {},
   "outputs": [],
   "source": [
    "import numpy as np\n",
    "from matplotlib import pyplot as plt\n",
    "import seaborn as sns\n",
    "sns.set()\n",
    "%matplotlib inline"
   ]
  },
  {
   "cell_type": "code",
   "execution_count": 11,
   "metadata": {},
   "outputs": [],
   "source": [
    "x = np.arange(0, 120, 1)"
   ]
  },
  {
   "cell_type": "code",
   "execution_count": 12,
   "metadata": {},
   "outputs": [],
   "source": [
    "y1 = (-1 * 60 / 40) * x + (3800 / 40)"
   ]
  },
  {
   "cell_type": "code",
   "execution_count": 13,
   "metadata": {},
   "outputs": [],
   "source": [
    "y2 = (-1 * 20 / 30) * x + (2100 / 30)"
   ]
  },
  {
   "cell_type": "code",
   "execution_count": 14,
   "metadata": {},
   "outputs": [],
   "source": [
    "y3 = (-1 * 20 / 10) * x + (1200 / 10)"
   ]
  },
  {
   "cell_type": "code",
   "execution_count": 15,
   "metadata": {},
   "outputs": [
    {
     "data": {
      "text/plain": [
       "Text(0,0.5,'omlet')"
      ]
     },
     "execution_count": 15,
     "metadata": {},
     "output_type": "execute_result"
    },
    {
     "data": {
      "image/png": "[encoded data removed]",
      "text/plain": [
       "<Figure size 720x720 with 1 Axes>"
      ]
     },
     "metadata": {},
     "output_type": "display_data"
    }
   ],
   "source": [
    "plt.rcParams['figure.figsize'] = (10.0, 10.0)\n",
    "plt.plot(x, y1)\n",
    "plt.plot(x, y2)\n",
    "plt.plot(x, y3)\n",
    "plt.plot(30, 50, \"ro\", ms=12)\n",
    "plt.legend(['60x + 40y <= 3800', '20x + 30y <= 2100', '20x + 10y <= 1200'])\n",
    "plt.xlim((0, 110))\n",
    "plt.ylim((0, 130))\n",
    "plt.xlabel('humburg')\n",
    "plt.ylabel('omlet')\n",
    "#plt.fill_between(x, y1, facecolor=\"y\", alpha=0.3, interpolate=True)\n",
    "#plt.fill_between(x, y2, facecolor=\"y\", alpha=0.3, interpolate=True)\n",
    "#plt.fill_between(x, y3, facecolor=\"y\", alpha=0.3, interpolate=True)"
   ]
  },
  {
   "cell_type": "code",
   "execution_count": null,
   "metadata": {},
   "outputs": [],
   "source": []
  }
 ],
 "metadata": {
  "kernelspec": {
   "display_name": "Python 3",
   "language": "python",
   "name": "python3"
  },
  "language_info": {
   "codemirror_mode": {
    "name": "ipython",
    "version": 3
   },
   "file_extension": ".py",
   "mimetype": "text/x-python",
   "name": "python",
   "nbconvert_exporter": "python",
   "pygments_lexer": "ipython3",
   "version": "3.6.1"
  }
 },
 "nbformat": 4,
 "nbformat_minor": 2
}
