{
 "cells": [
  {
   "cell_type": "code",
   "execution_count": 1,
   "metadata": {},
   "outputs": [],
   "source": [
    "from IPython.display import display, SVG\n",
    "import numpy as np, IPython.core.getipython\n",
    "ss = \"\"\"\\\n",
    "1/e50 50 50 50 url(#g) black 0.5\n",
    "1/e50 50 50 50 url(#g)/r0 0 100 50 white/e 50 50 50 10 #E0E0E0 black 0.5\n",
    "0/pM1,34_L35,10_L99,10_L66,34_L99,10_L99,75_L66,99 #E0E0E0 black 0.5/r1 34 65 65 #C0C0C0 black 0.5\n",
    "0/e50 82 50 17 #E0E0E0 black 0.5/pM0,80_L50,0_L100,80 #E0E0E0 black 0.5\n",
    "0/e90 50 10 30 #E0E0E0 black 0.5/pM90,20_L10,20_L10,80_L90,80 #E0E0E0 black 0.5/e10 50 10 30 #C0C0C0 black 0.5\n",
    "0/pM10,70_C10,60_30,30_50,30_C70,40_50,60_70,70_C90,70_90,40_90,30 none black\n",
    "0/pM10,70_C10,60_30,30_50,30_C70,40_50,60_70,70_C90,70_90,40_90,30 none black 10\\\n",
    "/pM10,69.2_C10,60_30,30_50,30_C70,40_50,60_70,70_C90,70_90,40_90,30.8 none white 8.4\n",
    "0/pM0,70_L30,30_L100,30_L70,70_Z #E0E0E0 black 0.8\n",
    "0/pM20,20_L20,80_L80,80 none black 10/pM20,21_L20,80_L79,80 none white 8.4\n",
    "0/pM1,50_L80,25_L99,25_L25,50_M99,25_L99,50_L25,75_L25,50 #E0E0E0 black 0.5/r1 50 25 25 #C0C0C0 black 0.5\n",
    "0/pM25,40_C50,-15_99,40_67,67_C60,70_50,80_50,98 none black 0.8/c 25 40 1.2/c 50 98 1.2\n",
    "0/e20 39.5 16 24 gray black 0.5/e24 40 16 24 #C0C0C0 black 0.5/e24 40 2 3 #555/l24 40 84 60 gray 2\\\n",
    "/e80 59.5 16 24 gray black 0.5/e84 60 16 24 #C0C0C0 black 0.5/e84 60 2 3 #555\n",
    "0/l10 10 90 90 black 10/l10.5 10.5 89.5 89.5 white 8.4/l10 90 90 10 black 10/l10.5 89.5 89.5 10.5 white 8.4\n",
    "0/c50 50 40 none black 10/c50 50 40 none white 8.4\n",
    "0/pM10,70_A40,40_0_0_1_90,70 none black 10/pM10,69.2_A40,39.2_0_0_1_90,69.2 none white 8.4\"\"\".splitlines()\n",
    "tt = {\n",
    "      'p':'path d fill stroke stroke-width'.split(),\n",
    "      'l':'line x1 y1 x2 y2 stroke stroke-width'.split(),\n",
    "      'c':'circle cx cy r fill stroke stroke-width'.split(),\n",
    "      'e':'ellipse cx cy rx ry fill stroke stroke-width'.split(),\n",
    "      'r':'rect x y width height fill stroke stroke-width'.split(),\n",
    "}\n",
    "def make_svg(ids, ss=ss, tt=tt):\n",
    "    rs, n = [], len(ids)\n",
    "    for i, j in enumerate(ids):\n",
    "        rr = ['<g transform=\"translate(%d,0)\">'%(i*120)]\n",
    "        vv = ss[j].split('/')\n",
    "        if vv[0] == '1':\n",
    "            rr.append(\"\"\"\\\n",
    "                <defs><radialGradient id=\"g\" gradientUnits=\"userSpaceOnUse\"\n",
    "                  cx=\"50\" cy=\"50\" r=\"50\" fx=\"20\" fy=\"50\">\n",
    "                <stop offset=\"0%\" stop-color=\"white\" />\n",
    "                <stop offset=\"100%\" stop-color=\"gray\" />\n",
    "                </radialGradient></defs>\"\"\")\n",
    "        for s in vv[1:]:\n",
    "            uu = tt[s[0]]\n",
    "            rr.append('<%s %s />'%(uu[0],' '.join('%s=\"%s\"'%(u,\n",
    "                a.replace('_',' ')) for u, a in zip(uu[1:], s[1:].split()))))\n",
    "        rs.append('\\n'.join(rr+['</g>']))\n",
    "    return SVG('<svg width=\"%d\" height=\"100\">%s</svg>'%(n*120,'\\n'.join(rs)))\n",
    "def F_impl(s):\n",
    "    return make_svg(np.random.choice(range(15), int(s) if s else 3, False))\n",
    "ip = IPython.core.getipython.get_ipython()\n",
    "if ip:\n",
    "    ip.register_magic_function(F_impl, magic_name='F')"
   ]
  },
  {
   "cell_type": "code",
   "execution_count": 2,
   "metadata": {},
   "outputs": [
    {
     "data": {
      "image/svg+xml": [
       "<svg height=\"100\" width=\"360\"><g transform=\"translate(0,0)\">\n",
       "<path d=\"M0,70 L30,30 L100,30 L70,70 Z\" fill=\"#E0E0E0\" stroke=\"black\" stroke-width=\"0.8\"/>\n",
       "</g>\n",
       "<g transform=\"translate(120,0)\">\n",
       "                <defs><radialGradient cx=\"50\" cy=\"50\" fx=\"20\" fy=\"50\" gradientUnits=\"userSpaceOnUse\" id=\"g\" r=\"50\">\n",
       "                <stop offset=\"0%\" stop-color=\"white\"/>\n",
       "                <stop offset=\"100%\" stop-color=\"gray\"/>\n",
       "                </radialGradient></defs>\n",
       "<ellipse cx=\"50\" cy=\"50\" fill=\"url(#g)\" rx=\"50\" ry=\"50\" stroke=\"black\" stroke-width=\"0.5\"/>\n",
       "</g>\n",
       "<g transform=\"translate(240,0)\">\n",
       "<ellipse cx=\"20\" cy=\"39.5\" fill=\"gray\" rx=\"16\" ry=\"24\" stroke=\"black\" stroke-width=\"0.5\"/>\n",
       "<ellipse cx=\"24\" cy=\"40\" fill=\"#C0C0C0\" rx=\"16\" ry=\"24\" stroke=\"black\" stroke-width=\"0.5\"/>\n",
       "<ellipse cx=\"24\" cy=\"40\" fill=\"#555\" rx=\"2\" ry=\"3\"/>\n",
       "<line stroke=\"gray\" stroke-width=\"2\" x1=\"24\" x2=\"84\" y1=\"40\" y2=\"60\"/>\n",
       "<ellipse cx=\"80\" cy=\"59.5\" fill=\"gray\" rx=\"16\" ry=\"24\" stroke=\"black\" stroke-width=\"0.5\"/>\n",
       "<ellipse cx=\"84\" cy=\"60\" fill=\"#C0C0C0\" rx=\"16\" ry=\"24\" stroke=\"black\" stroke-width=\"0.5\"/>\n",
       "<ellipse cx=\"84\" cy=\"60\" fill=\"#555\" rx=\"2\" ry=\"3\"/>\n",
       "</g></svg>"
      ],
      "text/plain": [
       "<IPython.core.display.SVG object>"
      ]
     },
     "execution_count": 2,
     "metadata": {},
     "output_type": "execute_result"
    }
   ],
   "source": [
    "F"
   ]
  },
  {
   "cell_type": "code",
   "execution_count": 3,
   "metadata": {},
   "outputs": [
    {
     "data": {
      "image/svg+xml": [
       "<svg height=\"100\" width=\"360\"><g transform=\"translate(0,0)\">\n",
       "<path d=\"M10,70 C10,60 30,30 50,30 C70,40 50,60 70,70 C90,70 90,40 90,30\" fill=\"none\" stroke=\"black\"/>\n",
       "</g>\n",
       "<g transform=\"translate(120,0)\">\n",
       "<circle cx=\"50\" cy=\"50\" fill=\"none\" r=\"40\" stroke=\"black\" stroke-width=\"10\"/>\n",
       "<circle cx=\"50\" cy=\"50\" fill=\"none\" r=\"40\" stroke=\"white\" stroke-width=\"8.4\"/>\n",
       "</g>\n",
       "<g transform=\"translate(240,0)\">\n",
       "<ellipse cx=\"50\" cy=\"82\" fill=\"#E0E0E0\" rx=\"50\" ry=\"17\" stroke=\"black\" stroke-width=\"0.5\"/>\n",
       "<path d=\"M0,80 L50,0 L100,80\" fill=\"#E0E0E0\" stroke=\"black\" stroke-width=\"0.5\"/>\n",
       "</g></svg>"
      ],
      "text/plain": [
       "<IPython.core.display.SVG object>"
      ]
     },
     "execution_count": 3,
     "metadata": {},
     "output_type": "execute_result"
    }
   ],
   "source": [
    "F"
   ]
  },
  {
   "cell_type": "code",
   "execution_count": 4,
   "metadata": {},
   "outputs": [
    {
     "data": {
      "image/svg+xml": [
       "<svg height=\"100\" width=\"360\"><g transform=\"translate(0,0)\">\n",
       "<path d=\"M0,70 L30,30 L100,30 L70,70 Z\" fill=\"#E0E0E0\" stroke=\"black\" stroke-width=\"0.8\"/>\n",
       "</g>\n",
       "<g transform=\"translate(120,0)\">\n",
       "                <defs><radialGradient cx=\"50\" cy=\"50\" fx=\"20\" fy=\"50\" gradientUnits=\"userSpaceOnUse\" id=\"g\" r=\"50\">\n",
       "                <stop offset=\"0%\" stop-color=\"white\"/>\n",
       "                <stop offset=\"100%\" stop-color=\"gray\"/>\n",
       "                </radialGradient></defs>\n",
       "<ellipse cx=\"50\" cy=\"50\" fill=\"url(#g)\" rx=\"50\" ry=\"50\" stroke=\"black\" stroke-width=\"0.5\"/>\n",
       "</g>\n",
       "<g transform=\"translate(240,0)\">\n",
       "<path d=\"M1,34 L35,10 L99,10 L66,34 L99,10 L99,75 L66,99\" fill=\"#E0E0E0\" stroke=\"black\" stroke-width=\"0.5\"/>\n",
       "<rect fill=\"#C0C0C0\" height=\"65\" stroke=\"black\" stroke-width=\"0.5\" width=\"65\" x=\"1\" y=\"34\"/>\n",
       "</g></svg>"
      ],
      "text/plain": [
       "<IPython.core.display.SVG object>"
      ]
     },
     "execution_count": 4,
     "metadata": {},
     "output_type": "execute_result"
    }
   ],
   "source": [
    "F"
   ]
  },
  {
   "cell_type": "code",
   "execution_count": 5,
   "metadata": {},
   "outputs": [
    {
     "data": {
      "image/svg+xml": [
       "<svg height=\"100\" width=\"360\"><g transform=\"translate(0,0)\">\n",
       "<path d=\"M0,70 L30,30 L100,30 L70,70 Z\" fill=\"#E0E0E0\" stroke=\"black\" stroke-width=\"0.8\"/>\n",
       "</g>\n",
       "<g transform=\"translate(120,0)\">\n",
       "<path d=\"M10,70 A40,40 0 0 1 90,70\" fill=\"none\" stroke=\"black\" stroke-width=\"10\"/>\n",
       "<path d=\"M10,69.2 A40,39.2 0 0 1 90,69.2\" fill=\"none\" stroke=\"white\" stroke-width=\"8.4\"/>\n",
       "</g>\n",
       "<g transform=\"translate(240,0)\">\n",
       "<circle cx=\"50\" cy=\"50\" fill=\"none\" r=\"40\" stroke=\"black\" stroke-width=\"10\"/>\n",
       "<circle cx=\"50\" cy=\"50\" fill=\"none\" r=\"40\" stroke=\"white\" stroke-width=\"8.4\"/>\n",
       "</g></svg>"
      ],
      "text/plain": [
       "<IPython.core.display.SVG object>"
      ]
     },
     "execution_count": 5,
     "metadata": {},
     "output_type": "execute_result"
    }
   ],
   "source": [
    "F"
   ]
  },
  {
   "cell_type": "code",
   "execution_count": 8,
   "metadata": {},
   "outputs": [
    {
     "data": {
      "image/svg+xml": [
       "<svg height=\"100\" width=\"360\"><g transform=\"translate(0,0)\">\n",
       "<line stroke=\"black\" stroke-width=\"10\" x1=\"10\" x2=\"90\" y1=\"10\" y2=\"90\"/>\n",
       "<line stroke=\"white\" stroke-width=\"8.4\" x1=\"10.5\" x2=\"89.5\" y1=\"10.5\" y2=\"89.5\"/>\n",
       "<line stroke=\"black\" stroke-width=\"10\" x1=\"10\" x2=\"90\" y1=\"90\" y2=\"10\"/>\n",
       "<line stroke=\"white\" stroke-width=\"8.4\" x1=\"10.5\" x2=\"89.5\" y1=\"89.5\" y2=\"10.5\"/>\n",
       "</g>\n",
       "<g transform=\"translate(120,0)\">\n",
       "<ellipse cx=\"90\" cy=\"50\" fill=\"#E0E0E0\" rx=\"10\" ry=\"30\" stroke=\"black\" stroke-width=\"0.5\"/>\n",
       "<path d=\"M90,20 L10,20 L10,80 L90,80\" fill=\"#E0E0E0\" stroke=\"black\" stroke-width=\"0.5\"/>\n",
       "<ellipse cx=\"10\" cy=\"50\" fill=\"#C0C0C0\" rx=\"10\" ry=\"30\" stroke=\"black\" stroke-width=\"0.5\"/>\n",
       "</g>\n",
       "<g transform=\"translate(240,0)\">\n",
       "<path d=\"M10,70 A40,40 0 0 1 90,70\" fill=\"none\" stroke=\"black\" stroke-width=\"10\"/>\n",
       "<path d=\"M10,69.2 A40,39.2 0 0 1 90,69.2\" fill=\"none\" stroke=\"white\" stroke-width=\"8.4\"/>\n",
       "</g></svg>"
      ],
      "text/plain": [
       "<IPython.core.display.SVG object>"
      ]
     },
     "execution_count": 8,
     "metadata": {},
     "output_type": "execute_result"
    }
   ],
   "source": [
    "F"
   ]
  },
  {
   "cell_type": "code",
   "execution_count": null,
   "metadata": {},
   "outputs": [],
   "source": []
  }
 ],
 "metadata": {
  "kernelspec": {
   "display_name": "Python 3",
   "language": "python",
   "name": "python3"
  },
  "language_info": {
   "codemirror_mode": {
    "name": "ipython",
    "version": 3
   },
   "file_extension": ".py",
   "mimetype": "text/x-python",
   "name": "python",
   "nbconvert_exporter": "python",
   "pygments_lexer": "ipython3",
   "version": "3.6.1"
  }
 },
 "nbformat": 4,
 "nbformat_minor": 2
}
