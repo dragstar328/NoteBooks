{
 "cells": [
  {
   "cell_type": "markdown",
   "metadata": {},
   "source": [
    "# 元ネタ\n",
    "\n",
    "- Qiita: https://qiita.com/skotaro/items/cdb0732ad1ad2a4b6236\n",
    "- Note:https://note.mu/goando/n/neb6ea35f1da3"
   ]
  },
  {
   "cell_type": "code",
   "execution_count": 1,
   "metadata": {},
   "outputs": [],
   "source": [
    "# いつもの呪文\n",
    "import pandas as pd\n",
    "import numpy as np\n",
    "from matplotlib import pyplot as plt\n",
    "import matplotlib\n",
    "import seaborn as sns\n",
    "%matplotlib inline\n",
    "# sns.set()\n",
    "font = {\"family\": \"TakaoGothic\"}\n",
    "matplotlib.rc('font', **font)"
   ]
  },
  {
   "cell_type": "markdown",
   "metadata": {},
   "source": [
    "# データ可視化のポイント\n",
    "\n",
    "1. 伝えたいメッセージを明確にする\n",
    "1. データの大きさを表すには比較する\n",
    "1. どういう形が一番メッセージを表現できるか考える"
   ]
  },
  {
   "cell_type": "code",
   "execution_count": 2,
   "metadata": {},
   "outputs": [
    {
     "data": {
      "text/plain": [
       "<matplotlib.axes._subplots.AxesSubplot at 0x7f3ab920dcc0>"
      ]
     },
     "execution_count": 2,
     "metadata": {},
     "output_type": "execute_result"
    },
    {
     "data": {
      "image/png": "[encoded data removed]",
      "text/plain": [
       "<Figure size 432x288 with 1 Axes>"
      ]
     },
     "metadata": {},
     "output_type": "display_data"
    }
   ],
   "source": [
    "power = pd.DataFrame([530000, 120000, 10000],\n",
    "                     index=[\"フリーザ\", \"ギニュー\", \"クリリン\"],\n",
    "                     columns=[\"戦闘力\"])\n",
    "power.plot.barh()"
   ]
  },
  {
   "cell_type": "code",
   "execution_count": 3,
   "metadata": {},
   "outputs": [
    {
     "data": {
      "image/png": "[encoded data removed]",
      "text/plain": [
       "<Figure size 432x216 with 1 Axes>"
      ]
     },
     "metadata": {},
     "output_type": "display_data"
    }
   ],
   "source": [
    "# 1. 凡例を消す legend=False\n",
    "# 2. バーの間を詰める width=0.8\n",
    "fig, ax = plt.subplots(figsize=(6, 3))\n",
    "power.plot.barh(legend=False, ax=ax, width=0.8)\n",
    "\n",
    "# 3. y軸の順番を逆に\n",
    "ax.invert_yaxis()\n",
    "\n",
    "# 4. 四方の枠(spines)を消す\n",
    "[spine.set_visible(False) for spine in ax.spines.values()]\n",
    "\n",
    "# 5. y軸x軸のtickを消す\n",
    "# 6. x軸のtick label(10000など)を消す\n",
    "ax.tick_params(bottom=False, left=False, labelbottom=False)\n",
    "\n",
    "# 7. y軸のラベルサイズを大きく\n",
    "ax.tick_params(axis='y', labelsize='x-large')\n",
    "\n",
    "# 8. バーの右側に実際の値を表示\n",
    "vmax = power['戦闘力'].max()\n",
    "for i, value in enumerate(power['戦闘力']):\n",
    "    ax.text(value+vmax*0.02, i, f'{value:,}', fontsize='x-large', va='center', color='C0')"
   ]
  },
  {
   "cell_type": "markdown",
   "metadata": {},
   "source": [
    "# 凡例は使わない"
   ]
  },
  {
   "cell_type": "code",
   "execution_count": 4,
   "metadata": {},
   "outputs": [
    {
     "data": {
      "text/html": [
       "<div>\n",
       "<style scoped>\n",
       "    .dataframe tbody tr th:only-of-type {\n",
       "        vertical-align: middle;\n",
       "    }\n",
       "\n",
       "    .dataframe tbody tr th {\n",
       "        vertical-align: top;\n",
       "    }\n",
       "\n",
       "    .dataframe thead th {\n",
       "        text-align: right;\n",
       "    }\n",
       "</style>\n",
       "<table border=\"1\" class=\"dataframe\">\n",
       "  <thead>\n",
       "    <tr style=\"text-align: right;\">\n",
       "      <th></th>\n",
       "      <th>2013</th>\n",
       "      <th>2014</th>\n",
       "      <th>2015</th>\n",
       "      <th>2016</th>\n",
       "    </tr>\n",
       "  </thead>\n",
       "  <tbody>\n",
       "    <tr>\n",
       "      <th>Toyota</th>\n",
       "      <td>970</td>\n",
       "      <td>1010</td>\n",
       "      <td>1015</td>\n",
       "      <td>1008</td>\n",
       "    </tr>\n",
       "    <tr>\n",
       "      <th>VW</th>\n",
       "      <td>975</td>\n",
       "      <td>1020</td>\n",
       "      <td>1002</td>\n",
       "      <td>1035</td>\n",
       "    </tr>\n",
       "    <tr>\n",
       "      <th>GM</th>\n",
       "      <td>975</td>\n",
       "      <td>985</td>\n",
       "      <td>995</td>\n",
       "      <td>999</td>\n",
       "    </tr>\n",
       "  </tbody>\n",
       "</table>\n",
       "</div>"
      ],
      "text/plain": [
       "        2013  2014  2015  2016\n",
       "Toyota   970  1010  1015  1008\n",
       "VW       975  1020  1002  1035\n",
       "GM       975   985   995   999"
      ]
     },
     "execution_count": 4,
     "metadata": {},
     "output_type": "execute_result"
    }
   ],
   "source": [
    "carsales = pd.DataFrame([[970, 1010, 1015, 1008],\n",
    "                         [975, 1020, 1002, 1035],\n",
    "                         [975, 985, 995, 999]],\n",
    "                        index=['Toyota', 'VW', 'GM'], columns=[2013, 2014, 2015, 2016])\n",
    "carsales"
   ]
  },
  {
   "cell_type": "code",
   "execution_count": 5,
   "metadata": {},
   "outputs": [
    {
     "data": {
      "text/plain": [
       "<matplotlib.axes._subplots.AxesSubplot at 0x7f3ab64a2cf8>"
      ]
     },
     "execution_count": 5,
     "metadata": {},
     "output_type": "execute_result"
    },
    {
     "data": {
      "image/png": "[encoded data removed]",
      "text/plain": [
       "<Figure size 432x288 with 1 Axes>"
      ]
     },
     "metadata": {},
     "output_type": "display_data"
    }
   ],
   "source": [
    "carsales.T.plot()"
   ]
  },
  {
   "cell_type": "markdown",
   "metadata": {},
   "source": [
    "1. 色を原色のRGBとは違ういい感じの赤青緑に\n",
    "1.    凡例を消す\n",
    "1.    線幅を太くする\n",
    "1.    y軸ラベルを表示\n",
    "1.    x軸y軸の表示範囲を変更\n",
    "1.    y軸ラベルの色を変更\n",
    "1.    x軸y軸のtick位置を変更\n",
    "1.    x軸y軸のtickを消す\n",
    "1.    x軸y軸のtick labelの色を変更\n",
    "1.    y軸のグリッドを表示\n",
    "1.    左右と上の枠を消す\n",
    "1.    下の枠の色を変更\n",
    "1.    通常の凡例の代わりにプロットの右側にindexを表示\n"
   ]
  },
  {
   "cell_type": "code",
   "execution_count": 6,
   "metadata": {},
   "outputs": [
    {
     "data": {
      "image/png": "[encoded data removed]",
      "text/plain": [
       "<Figure size 360x216 with 1 Axes>"
      ]
     },
     "metadata": {},
     "output_type": "display_data"
    }
   ],
   "source": [
    "# tickの位置、tick labelのフォーマットの設定はtickerを使う\n",
    "# https://matplotlib.org/api/ticker_api.html 参照\n",
    "from matplotlib.ticker import MultipleLocator\n",
    "\n",
    "# 1. 色を原色のRGBとは違ういい感じの赤青緑に\n",
    "# Set1 https://matplotlib.org/examples/color/colormaps_reference.html\n",
    "# https://stackoverflow.com/questions/46148193/how-to-set-default-matplotlib-axis-colour-cycle\n",
    "from cycler import cycler\n",
    "c = plt.get_cmap('Set1').colors\n",
    "plt.rcParams['axes.prop_cycle'] = cycler(color=c)\n",
    "\n",
    "fig, ax = plt.subplots(figsize=(5, 3))\n",
    "# 2. 凡例を消す\n",
    "# 3. 線幅を太くする\n",
    "carsales.T.plot(ax=ax, linewidth=4, legend=False)\n",
    "\n",
    "# 4. y軸ラベルを表示\n",
    "# 5. x軸y軸の表示範囲を変更\n",
    "year = carsales.columns.values\n",
    "ax.set(ylabel='販売台数（万）', ylim=(950, 1050), xlim=(year.min(), year.max()))\n",
    "\n",
    "# 6. y軸ラベルの色を変更\n",
    "ax.yaxis.label.set_color('gray')\n",
    "\n",
    "# 7. x軸y軸のtick位置を変更\n",
    "ax.yaxis.set_major_locator(MultipleLocator(50))\n",
    "ax.xaxis.set_major_locator(MultipleLocator(1))\n",
    "\n",
    "# 8. x軸y軸のtickを消す\n",
    "ax.tick_params(bottom=False, left=False)\n",
    "\n",
    "# 9. x軸y軸のtick labelの色を変更\n",
    "ax.tick_params(axis='y', colors='gray') # colorではなくcolors\n",
    "ax.tick_params(axis='x', colors='dimgray') # colorではなくcolors\n",
    "\n",
    "# 10. y軸のグリッドを表示\n",
    "ax.grid(axis='y')\n",
    "\n",
    "# 11. 左右と上の枠を消す\n",
    "ax.spines['right'].set_visible(False)\n",
    "ax.spines['left'].set_visible(False)\n",
    "ax.spines['top'].set_visible(False)\n",
    "\n",
    "# 12. 下の枠の色を変更\n",
    "ax.spines['bottom'].set_color('dimgray')\n",
    "\n",
    "# 13. 通常の凡例の代わりにプロットの右側にindexを表示\n",
    "for i, name in enumerate(carsales.index.values):\n",
    "    ax.text(year.max()+0.03, ax.lines[i].get_data()[1][-1], name,\n",
    "            color=f'C{i}', fontsize='large', va='center')"
   ]
  },
  {
   "cell_type": "markdown",
   "metadata": {},
   "source": [
    "## 一本だけ目立たせる"
   ]
  },
  {
   "cell_type": "code",
   "execution_count": 7,
   "metadata": {},
   "outputs": [
    {
     "data": {
      "image/png": "[encoded data removed]",
      "text/plain": [
       "<Figure size 360x216 with 1 Axes>"
      ]
     },
     "metadata": {},
     "output_type": "display_data"
    }
   ],
   "source": [
    "fig, ax = plt.subplots(figsize=(5, 3))\n",
    "\n",
    "# 1. ひとまず全部灰色でプロット\n",
    "carsales.T.plot(ax=ax, linewidth=4, legend=False, color='lightgray')\n",
    "\n",
    "# 2. 注目したい線だけ色を変更\n",
    "# 目立たせたいデータのLine2Dオブジェクトをax.linesリストから取得。\n",
    "# 今回のGMはリストの最後にあるので[-1]\n",
    "ax.lines[-1].set_color('limegreen')\n",
    "\n",
    "### 上と同じ部分は省略 ###\n",
    "\n",
    "# 3. 文字列はforループ内でifを使って色指定\n",
    "for i, name in enumerate(carsales.index.values):\n",
    "    if name == 'GM':\n",
    "        color = 'limegreen'\n",
    "        size = 'x-large'\n",
    "    else:\n",
    "        color = 'gray'\n",
    "        size = 'large'\n",
    "    ax.text(year.max()+0.03, ax.lines[i].get_data()[1][-1], name,\n",
    "            color=color, fontsize=size, va='center')"
   ]
  },
  {
   "cell_type": "markdown",
   "metadata": {},
   "source": [
    "# 目盛ラベルは傾けない"
   ]
  },
  {
   "cell_type": "code",
   "execution_count": 8,
   "metadata": {},
   "outputs": [
    {
     "data": {
      "text/plain": [
       "<matplotlib.axes._subplots.AxesSubplot at 0x7f3ab6444eb8>"
      ]
     },
     "execution_count": 8,
     "metadata": {},
     "output_type": "execute_result"
    },
    {
     "data": {
      "image/png": "[encoded data removed]",
      "text/plain": [
       "<Figure size 432x288 with 1 Axes>"
      ]
     },
     "metadata": {},
     "output_type": "display_data"
    }
   ],
   "source": [
    "mau = np.linspace(450, 990, 12) + np.random.randint(-50, 50, 12)\n",
    "timeindex = pd.date_range('2017/5', periods=12, freq='MS')\n",
    "# `freq='M'`だと月末の日付になってしまうので注意\n",
    "mau = pd.Series(mau, index=timeindex, name='MAU')\n",
    "mau.plot.bar()"
   ]
  },
  {
   "cell_type": "code",
   "execution_count": 9,
   "metadata": {},
   "outputs": [
    {
     "data": {
      "text/plain": [
       "<BarContainer object of 12 artists>"
      ]
     },
     "execution_count": 9,
     "metadata": {},
     "output_type": "execute_result"
    },
    {
     "data": {
      "image/png": "[encoded data removed]",
      "text/plain": [
       "<Figure size 432x288 with 1 Axes>"
      ]
     },
     "metadata": {},
     "output_type": "display_data"
    }
   ],
   "source": [
    "plt.bar(mau.index, mau, width=10) \n",
    "# widthに何も指定しないと初期値width=0.8（0.8日分）となりほぼ線になってしまう。"
   ]
  },
  {
   "cell_type": "markdown",
   "metadata": {},
   "source": [
    "1. バーの色と幅を変更\n",
    "1. y軸ラベルを表示、色を指定\n",
    "1. y軸のtick位置の変更\n",
    "1. x軸y軸のtickを消す\n",
    "1. x軸y軸のtick labelの色を変更\n",
    "1. y軸のグリッドを表示\n",
    "1. 左右と上の枠を消す\n",
    "1. 下の枠の色を変更\n",
    "1. x軸のtick labelを月だけにする\n",
    "1. x軸のtickの位置を毎月ごとにする\n",
    "1. 各年の最初の月の下に年を表示"
   ]
  },
  {
   "cell_type": "code",
   "execution_count": 10,
   "metadata": {},
   "outputs": [
    {
     "data": {
      "image/png": "[encoded data removed]",
      "text/plain": [
       "<Figure size 360x216 with 1 Axes>"
      ]
     },
     "metadata": {},
     "output_type": "display_data"
    }
   ],
   "source": [
    "import matplotlib.dates as mdates\n",
    "\n",
    "fig, ax = plt.subplots(figsize=(5, 3))\n",
    "\n",
    "# 1. バーの色と幅を変更\n",
    "ax.bar(mau.index, mau, width=20, color='coral', zorder=2, align='center')\n",
    "\n",
    "# 2. y軸ラベルを表示、色を指定\n",
    "ax.set_ylabel(mau.name, color='gray')\n",
    "\n",
    "# 3. y軸のtick位置の変更\n",
    "ax.yaxis.set_major_locator(MultipleLocator(500))\n",
    "\n",
    "# 4. x軸y軸のtickを消す\n",
    "ax.tick_params(bottom=False, left=False)\n",
    "\n",
    "# 5. x軸y軸のtick labelの色を変更\n",
    "ax.tick_params(axis='x', colors='dimgray')\n",
    "ax.tick_params(axis='y', colors='gray')\n",
    "\n",
    "# 6. y軸のグリッドを表示\n",
    "ax.grid(axis='y')\n",
    "\n",
    "# 7. 左右と上の枠を消す\n",
    "ax.spines['left'].set_visible(False)\n",
    "ax.spines['right'].set_visible(False)\n",
    "ax.spines['top'].set_visible(False)\n",
    "\n",
    "# 8. 下の枠の色を変更\n",
    "ax.spines['bottom'].set_color('dimgray')\n",
    "\n",
    "# 9. x軸のtick labelを月だけにする\n",
    "# '%-m'はstrftimeのleading zeroなしmonth表記\n",
    "ax.xaxis.set_major_formatter(mdates.DateFormatter('%-m')) \n",
    "\n",
    "\n",
    "# 10. x軸のtickの位置を毎月ごとにする\n",
    "ax.xaxis.set_major_locator(mdates.MonthLocator())\n",
    "\n",
    "# 一度figをdrawしないとmajor tickのpositionが更新されない\n",
    "fig.canvas.draw()\n",
    "\n",
    "# 11. 各年の最初の月の下に年を表示\n",
    "for key, gr in mau.groupby(mau.index.year):\n",
    "    i = np.where(mau.index == gr.index[0])[0][0]\n",
    "    pos = ax.get_xmajorticklabels()[i].get_position()\n",
    "#    ax.text(pos[0]-15, -200, key) # 線なしバージョン\n",
    "# Axesの外に線を書くのは非常にめんどくさいのでannotateで代用\n",
    "# annotateも矢印の始点の調整が意味不明なので空白で無理やり調整\n",
    "# textcoordsを指定せずにデフォルトのデータ座標を使うとなぜか空白が反映されない。\n",
    "    ax.annotate(f'         {key}', xy=(pos[0]-15, 0), xycoords='data',\n",
    "                xytext=(0, -30), textcoords='offset points', color='dimgray',\n",
    "                ha='center', va='bottom',\n",
    "                arrowprops={'arrowstyle':'-', 'color':'dimgray'})"
   ]
  },
  {
   "cell_type": "code",
   "execution_count": null,
   "metadata": {},
   "outputs": [],
   "source": []
  }
 ],
 "metadata": {
  "kernelspec": {
   "display_name": "Python 3",
   "language": "python",
   "name": "python3"
  },
  "language_info": {
   "codemirror_mode": {
    "name": "ipython",
    "version": 3
   },
   "file_extension": ".py",
   "mimetype": "text/x-python",
   "name": "python",
   "nbconvert_exporter": "python",
   "pygments_lexer": "ipython3",
   "version": "3.6.1"
  }
 },
 "nbformat": 4,
 "nbformat_minor": 2
}
