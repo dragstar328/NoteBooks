{
 "cells": [
  {
   "cell_type": "code",
   "execution_count": 1,
   "metadata": {},
   "outputs": [],
   "source": [
    "from sympy import *"
   ]
  },
  {
   "cell_type": "code",
   "execution_count": 2,
   "metadata": {},
   "outputs": [],
   "source": [
    "init_printing()"
   ]
  },
  {
   "cell_type": "code",
   "execution_count": 3,
   "metadata": {},
   "outputs": [
    {
     "name": "stdout",
     "output_type": "stream",
     "text": [
      "13\n",
      "⎡-√6 + √2  -(√2 + √6)          ⎤\n",
      "⎢────────, ───────────, -√3 + 2⎥\n",
      "⎣   4           4              ⎦\n",
      "\n",
      "14\n",
      "⎡      -√3   √3⎤\n",
      "⎢-1/2, ────, ──⎥\n",
      "⎣       2    3 ⎦\n",
      "\n",
      "15\n",
      "⎡-√2   -√2    ⎤\n",
      "⎢────, ────, 1⎥\n",
      "⎣ 2     2     ⎦\n",
      "\n",
      "16\n",
      "⎡-√3           ⎤\n",
      "⎢────, -1/2, √3⎥\n",
      "⎣ 2            ⎦\n",
      "\n",
      "17\n",
      "⎡-(√2 + √6)   -√6 + √2        ⎤\n",
      "⎢───────────, ────────, √3 + 2⎥\n",
      "⎣     4          4            ⎦\n",
      "\n",
      "18\n",
      "[-1, 0, zoo]\n",
      "\n",
      "19\n",
      "⎡-(√2 + √6)   -(-√6 + √2)          ⎤\n",
      "⎢───────────, ────────────, -2 - √3⎥\n",
      "⎣     4            4               ⎦\n",
      "\n",
      "20\n",
      "⎡-√3           ⎤\n",
      "⎢────, 1/2, -√3⎥\n",
      "⎣ 2            ⎦\n",
      "\n",
      "21\n",
      "⎡-√2   √2    ⎤\n",
      "⎢────, ──, -1⎥\n",
      "⎣ 2    2     ⎦\n",
      "\n",
      "22\n",
      "⎡      √3  -√3 ⎤\n",
      "⎢-1/2, ──, ────⎥\n",
      "⎣      2    3  ⎦\n",
      "\n",
      "23\n",
      "⎡-√6 + √2  √2 + √6         ⎤\n",
      "⎢────────, ───────, -2 + √3⎥\n",
      "⎣   4         4            ⎦\n",
      "\n",
      "24\n",
      "[0, 1, 0]\n",
      "\n"
     ]
    }
   ],
   "source": [
    "for n in range(13, 25):\n",
    "    print(n)\n",
    "    pprint(list(map(lambda f: f(n * pi / 12).factor(), [sin, cos, tan])))\n",
    "    print()"
   ]
  },
  {
   "cell_type": "code",
   "execution_count": null,
   "metadata": {},
   "outputs": [],
   "source": []
  }
 ],
 "metadata": {
  "kernelspec": {
   "display_name": "Python 3",
   "language": "python",
   "name": "python3"
  },
  "language_info": {
   "codemirror_mode": {
    "name": "ipython",
    "version": 3
   },
   "file_extension": ".py",
   "mimetype": "text/x-python",
   "name": "python",
   "nbconvert_exporter": "python",
   "pygments_lexer": "ipython3",
   "version": "3.6.1"
  }
 },
 "nbformat": 4,
 "nbformat_minor": 2
}
