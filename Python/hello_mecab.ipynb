{
 "cells": [
  {
   "cell_type": "code",
   "execution_count": 1,
   "metadata": {},
   "outputs": [],
   "source": [
    "import sys\n",
    "import MeCab"
   ]
  },
  {
   "cell_type": "code",
   "execution_count": 2,
   "metadata": {},
   "outputs": [],
   "source": [
    "m = MeCab.Tagger(\"-Ochasen\")"
   ]
  },
  {
   "cell_type": "code",
   "execution_count": 3,
   "metadata": {},
   "outputs": [
    {
     "name": "stdout",
     "output_type": "stream",
     "text": [
      "隣\tトナリ\t隣\t名詞-一般\t\t\n",
      "の\tノ\tの\t助詞-連体化\t\t\n",
      "客\tキャク\t客\t名詞-一般\t\t\n",
      "は\tハ\tは\t助詞-係助詞\t\t\n",
      "よく\tヨク\tよく\t副詞-一般\t\t\n",
      "柿\tカキ\t柿\t名詞-一般\t\t\n",
      "食う\tクウ\t食う\t動詞-自立\t五段・ワ行促音便\t基本形\n",
      "客\tキャク\t客\t名詞-一般\t\t\n",
      "だ\tダ\tだ\t助動詞\t特殊・ダ\t基本形\n",
      "EOS\n",
      "\n"
     ]
    }
   ],
   "source": [
    "print(m.parse(\"隣の客はよく柿食う客だ\"))"
   ]
  },
  {
   "cell_type": "code",
   "execution_count": null,
   "metadata": {},
   "outputs": [],
   "source": []
  }
 ],
 "metadata": {
  "kernelspec": {
   "display_name": "Python 3",
   "language": "python",
   "name": "python3"
  },
  "language_info": {
   "codemirror_mode": {
    "name": "ipython",
    "version": 3
   },
   "file_extension": ".py",
   "mimetype": "text/x-python",
   "name": "python",
   "nbconvert_exporter": "python",
   "pygments_lexer": "ipython3",
   "version": "3.6.1"
  }
 },
 "nbformat": 4,
 "nbformat_minor": 2
}
